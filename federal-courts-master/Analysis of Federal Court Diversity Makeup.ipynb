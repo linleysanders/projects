{
 "cells": [
  {
   "cell_type": "markdown",
   "metadata": {},
   "source": [
    "# Diversity Analysis of America's Federal Courts\n",
    "\n",
    "This Python project analyzes each sitting judge that serves in the Courts of Appeals and the District Courts. After scraping the names of each sitting judge in every district using Selenium, I will work to analyze who nominated each judge (political party of president), and the gender makeup of the courts."
   ]
  },
  {
   "cell_type": "markdown",
   "metadata": {},
   "source": [
    "## Scraping Current Judicial Vacancies\n",
    "To pull a listing of current judicial vacancies by court. The name of the incumbent, the reason for the vacancy, the vacancy date, the nominee, and the nomination date.\n",
    "\n",
    "http://www.uscourts.gov/judges-judgeships/judicial-vacancies/current-judicial-vacancies"
   ]
  },
  {
   "cell_type": "code",
   "execution_count": 1,
   "metadata": {},
   "outputs": [],
   "source": [
    "#Importing scraping libraries, using Selenium\n",
    "from selenium import webdriver\n",
    "from selenium.webdriver.common.keys import Keys\n",
    "from selenium.webdriver.support.ui import Select\n",
    "from selenium.webdriver.support.ui import WebDriverWait\n",
    "from selenium.common.exceptions import NoSuchElementException"
   ]
  },
  {
   "cell_type": "code",
   "execution_count": 2,
   "metadata": {},
   "outputs": [],
   "source": [
    "###Directing Selenium to the Judicial Vacancies website\n",
    "driver = webdriver.Chrome()\n",
    "driver.get('http://www.uscourts.gov/judges-judgeships/judicial-vacancies/current-judicial-vacancies')"
   ]
  },
  {
   "cell_type": "code",
   "execution_count": 3,
   "metadata": {},
   "outputs": [
    {
     "name": "stdout",
     "output_type": "stream",
     "text": [
      "null\n"
     ]
    },
    {
     "data": {
      "text/html": [
       "<div>\n",
       "<style scoped>\n",
       "    .dataframe tbody tr th:only-of-type {\n",
       "        vertical-align: middle;\n",
       "    }\n",
       "\n",
       "    .dataframe tbody tr th {\n",
       "        vertical-align: top;\n",
       "    }\n",
       "\n",
       "    .dataframe thead th {\n",
       "        text-align: right;\n",
       "    }\n",
       "</style>\n",
       "<table border=\"1\" class=\"dataframe\">\n",
       "  <thead>\n",
       "    <tr style=\"text-align: right;\">\n",
       "      <th></th>\n",
       "      <th>court</th>\n",
       "      <th>incumbent</th>\n",
       "      <th>nom_date</th>\n",
       "      <th>nominee</th>\n",
       "      <th>vacancy_reason</th>\n",
       "    </tr>\n",
       "  </thead>\n",
       "  <tbody>\n",
       "    <tr>\n",
       "      <th>0</th>\n",
       "      <td>01 - MA</td>\n",
       "      <td>O'Toole Jr.,George A.</td>\n",
       "      <td>01/01/2018</td>\n",
       "      <td></td>\n",
       "      <td>Senior</td>\n",
       "    </tr>\n",
       "    <tr>\n",
       "      <th>1</th>\n",
       "      <td>01 - MA</td>\n",
       "      <td>Woodlock,Douglas P.</td>\n",
       "      <td>06/01/2015</td>\n",
       "      <td></td>\n",
       "      <td>Senior</td>\n",
       "    </tr>\n",
       "    <tr>\n",
       "      <th>2</th>\n",
       "      <td>01 - ME</td>\n",
       "      <td>Woodcock Jr.,John A.</td>\n",
       "      <td>06/27/2017</td>\n",
       "      <td>Walker,Lance E.</td>\n",
       "      <td>Senior</td>\n",
       "    </tr>\n",
       "    <tr>\n",
       "      <th>3</th>\n",
       "      <td>01 - PR</td>\n",
       "      <td>Fuste,Jose Antonio</td>\n",
       "      <td>06/01/2016</td>\n",
       "      <td>Arias-Marxuach,Raul M.</td>\n",
       "      <td>Retired</td>\n",
       "    </tr>\n",
       "    <tr>\n",
       "      <th>4</th>\n",
       "      <td>01 - RI</td>\n",
       "      <td>Lisi,Mary M.</td>\n",
       "      <td>10/01/2015</td>\n",
       "      <td>McElroy,Mary S.</td>\n",
       "      <td>Senior</td>\n",
       "    </tr>\n",
       "    <tr>\n",
       "      <th>5</th>\n",
       "      <td>02 - CCA</td>\n",
       "      <td>Lynch,Gerard E.</td>\n",
       "      <td>09/05/2016</td>\n",
       "      <td></td>\n",
       "      <td>Senior</td>\n",
       "    </tr>\n",
       "    <tr>\n",
       "      <th>6</th>\n",
       "      <td>02 - CCA</td>\n",
       "      <td>Wesley,Richard C.</td>\n",
       "      <td>08/01/2016</td>\n",
       "      <td>Sullivan,Richard J.</td>\n",
       "      <td>Senior</td>\n",
       "    </tr>\n",
       "    <tr>\n",
       "      <th>7</th>\n",
       "      <td>02 - CT</td>\n",
       "      <td>Chatigny,Robert N.</td>\n",
       "      <td>01/01/2017</td>\n",
       "      <td>Dooley,Kari A.</td>\n",
       "      <td>Senior</td>\n",
       "    </tr>\n",
       "    <tr>\n",
       "      <th>8</th>\n",
       "      <td>02 - NY-E</td>\n",
       "      <td>Feuerstein,Sandra J.</td>\n",
       "      <td>01/21/2015</td>\n",
       "      <td>Brown,Gary Richard</td>\n",
       "      <td>Senior</td>\n",
       "    </tr>\n",
       "    <tr>\n",
       "      <th>9</th>\n",
       "      <td>02 - NY-E</td>\n",
       "      <td>Gleeson,John</td>\n",
       "      <td>03/09/2016</td>\n",
       "      <td>Gujarati,Diane</td>\n",
       "      <td>Resigned</td>\n",
       "    </tr>\n",
       "  </tbody>\n",
       "</table>\n",
       "</div>"
      ],
      "text/plain": [
       "       court              incumbent    nom_date                 nominee  \\\n",
       "0    01 - MA  O'Toole Jr.,George A.  01/01/2018                           \n",
       "1    01 - MA    Woodlock,Douglas P.  06/01/2015                           \n",
       "2    01 - ME   Woodcock Jr.,John A.  06/27/2017         Walker,Lance E.   \n",
       "3    01 - PR     Fuste,Jose Antonio  06/01/2016  Arias-Marxuach,Raul M.   \n",
       "4    01 - RI           Lisi,Mary M.  10/01/2015         McElroy,Mary S.   \n",
       "5   02 - CCA        Lynch,Gerard E.  09/05/2016                           \n",
       "6   02 - CCA      Wesley,Richard C.  08/01/2016     Sullivan,Richard J.   \n",
       "7    02 - CT     Chatigny,Robert N.  01/01/2017          Dooley,Kari A.   \n",
       "8  02 - NY-E   Feuerstein,Sandra J.  01/21/2015      Brown,Gary Richard   \n",
       "9  02 - NY-E           Gleeson,John  03/09/2016          Gujarati,Diane   \n",
       "\n",
       "  vacancy_reason  \n",
       "0         Senior  \n",
       "1         Senior  \n",
       "2         Senior  \n",
       "3        Retired  \n",
       "4         Senior  \n",
       "5         Senior  \n",
       "6         Senior  \n",
       "7         Senior  \n",
       "8         Senior  \n",
       "9       Resigned  "
      ]
     },
     "execution_count": 3,
     "metadata": {},
     "output_type": "execute_result"
    }
   ],
   "source": [
    "vacancies = []\n",
    "\n",
    "rows = driver.find_elements_by_tag_name('tr')\n",
    "\n",
    "for row in rows:\n",
    "    \n",
    "    cells = row.find_elements_by_css_selector('td')\n",
    "    \n",
    "    if not cells:\n",
    "        print(\"null\")\n",
    "    \n",
    "    else:\n",
    "    \n",
    "        data = {\n",
    "            'court':  cells[0].text,\n",
    "            'incumbent': cells[1].text,\n",
    "            'vacancy_reason': cells[2].text,\n",
    "            'nom_date': cells[3].text,\n",
    "            'nominee': cells[4].text,\n",
    "    }\n",
    "        \n",
    "        vacancies.append(data)\n",
    "\n",
    "import pandas as pd\n",
    "\n",
    "df = pd.DataFrame(vacancies)\n",
    "df.to_csv(\"judge_vacancies.csv\", index=False)\n",
    "df.head(10)"
   ]
  },
  {
   "cell_type": "markdown",
   "metadata": {},
   "source": [
    "## Scraping Current Judicial Confirmations\n",
    "Scrape the first page of judicial confirmations:\n",
    "\n",
    "http://www.uscourts.gov/judges-judgeships/judicial-vacancies/confirmation-listing\n"
   ]
  },
  {
   "cell_type": "code",
   "execution_count": 4,
   "metadata": {},
   "outputs": [],
   "source": [
    "driver = webdriver.Chrome()\n",
    "driver.get('http://www.uscourts.gov/judges-judgeships/judicial-vacancies/confirmation-listing')"
   ]
  },
  {
   "cell_type": "code",
   "execution_count": 13,
   "metadata": {},
   "outputs": [
    {
     "name": "stdout",
     "output_type": "stream",
     "text": [
      "null\n"
     ]
    },
    {
     "data": {
      "text/html": [
       "<div>\n",
       "<style scoped>\n",
       "    .dataframe tbody tr th:only-of-type {\n",
       "        vertical-align: middle;\n",
       "    }\n",
       "\n",
       "    .dataframe tbody tr th {\n",
       "        vertical-align: top;\n",
       "    }\n",
       "\n",
       "    .dataframe thead th {\n",
       "        text-align: right;\n",
       "    }\n",
       "</style>\n",
       "<table border=\"1\" class=\"dataframe\">\n",
       "  <thead>\n",
       "    <tr style=\"text-align: right;\">\n",
       "      <th></th>\n",
       "      <th>conf_date</th>\n",
       "      <th>court</th>\n",
       "      <th>incumbent</th>\n",
       "      <th>nom_date</th>\n",
       "      <th>nominee</th>\n",
       "      <th>vacancy_date</th>\n",
       "      <th>vacancy_reason</th>\n",
       "    </tr>\n",
       "  </thead>\n",
       "  <tbody>\n",
       "    <tr>\n",
       "      <th>0</th>\n",
       "      <td>11/02/2017</td>\n",
       "      <td>03 - CCA</td>\n",
       "      <td>Rendell,Marjorie O.</td>\n",
       "      <td>06/19/2017</td>\n",
       "      <td>Bibas,Stephanos</td>\n",
       "      <td>07/01/2015</td>\n",
       "      <td>Senior</td>\n",
       "    </tr>\n",
       "    <tr>\n",
       "      <th>1</th>\n",
       "      <td>11/16/2017</td>\n",
       "      <td>04 - SC</td>\n",
       "      <td>Anderson Jr.,Joseph F.</td>\n",
       "      <td>08/03/2017</td>\n",
       "      <td>Coggins Jr.,Donald C.</td>\n",
       "      <td>11/16/2014</td>\n",
       "      <td>Senior</td>\n",
       "    </tr>\n",
       "    <tr>\n",
       "      <th>2</th>\n",
       "      <td>03/01/2018</td>\n",
       "      <td>04 - SC</td>\n",
       "      <td>Currie,Cameron McGowan</td>\n",
       "      <td>08/03/2017</td>\n",
       "      <td>Quattlebaum Jr.,A. Marvin</td>\n",
       "      <td>10/03/2013</td>\n",
       "      <td>Senior</td>\n",
       "    </tr>\n",
       "    <tr>\n",
       "      <th>3</th>\n",
       "      <td>04/24/2018</td>\n",
       "      <td>05 - CCA</td>\n",
       "      <td>Davis,W. Eugene</td>\n",
       "      <td>01/08/2018</td>\n",
       "      <td>Duncan,Stuart Kyle</td>\n",
       "      <td>12/31/2016</td>\n",
       "      <td>Senior</td>\n",
       "    </tr>\n",
       "    <tr>\n",
       "      <th>4</th>\n",
       "      <td>05/09/2018</td>\n",
       "      <td>05 - CCA</td>\n",
       "      <td>Clement,Edith Brown</td>\n",
       "      <td>01/08/2018</td>\n",
       "      <td>Engelhardt,Kurt D.</td>\n",
       "      <td>05/09/2018</td>\n",
       "      <td>Senior</td>\n",
       "    </tr>\n",
       "    <tr>\n",
       "      <th>5</th>\n",
       "      <td>12/14/2017</td>\n",
       "      <td>05 - CCA</td>\n",
       "      <td>King,Carolyn Dineen</td>\n",
       "      <td>10/16/2017</td>\n",
       "      <td>Ho,James C.</td>\n",
       "      <td>12/31/2013</td>\n",
       "      <td>Senior</td>\n",
       "    </tr>\n",
       "    <tr>\n",
       "      <th>6</th>\n",
       "      <td>12/13/2017</td>\n",
       "      <td>05 - CCA</td>\n",
       "      <td>Garza,Emilio M.</td>\n",
       "      <td>10/03/2017</td>\n",
       "      <td>Willett,Don R.</td>\n",
       "      <td>08/01/2012</td>\n",
       "      <td>Senior</td>\n",
       "    </tr>\n",
       "    <tr>\n",
       "      <th>7</th>\n",
       "      <td>03/06/2018</td>\n",
       "      <td>05 - LAW</td>\n",
       "      <td>James,Robert G.</td>\n",
       "      <td>08/03/2017</td>\n",
       "      <td>Doughty,Terry A.</td>\n",
       "      <td>05/31/2016</td>\n",
       "      <td>Senior</td>\n",
       "    </tr>\n",
       "    <tr>\n",
       "      <th>8</th>\n",
       "      <td>03/05/2018</td>\n",
       "      <td>05 - TXN</td>\n",
       "      <td>Solis,Jorge A.</td>\n",
       "      <td>09/07/2017</td>\n",
       "      <td>Scholer,Karen Gren</td>\n",
       "      <td>05/01/2016</td>\n",
       "      <td>Retired</td>\n",
       "    </tr>\n",
       "    <tr>\n",
       "      <th>9</th>\n",
       "      <td>06/05/2018</td>\n",
       "      <td>05 - TXS</td>\n",
       "      <td>Costa,Gregg Jeffrey</td>\n",
       "      <td>09/07/2017</td>\n",
       "      <td>Rodriguez Jr.,Fernando</td>\n",
       "      <td>05/20/2014</td>\n",
       "      <td>Elevated</td>\n",
       "    </tr>\n",
       "  </tbody>\n",
       "</table>\n",
       "</div>"
      ],
      "text/plain": [
       "    conf_date     court               incumbent    nom_date  \\\n",
       "0  11/02/2017  03 - CCA     Rendell,Marjorie O.  06/19/2017   \n",
       "1  11/16/2017   04 - SC  Anderson Jr.,Joseph F.  08/03/2017   \n",
       "2  03/01/2018   04 - SC  Currie,Cameron McGowan  08/03/2017   \n",
       "3  04/24/2018  05 - CCA         Davis,W. Eugene  01/08/2018   \n",
       "4  05/09/2018  05 - CCA     Clement,Edith Brown  01/08/2018   \n",
       "5  12/14/2017  05 - CCA     King,Carolyn Dineen  10/16/2017   \n",
       "6  12/13/2017  05 - CCA         Garza,Emilio M.  10/03/2017   \n",
       "7  03/06/2018  05 - LAW         James,Robert G.  08/03/2017   \n",
       "8  03/05/2018  05 - TXN          Solis,Jorge A.  09/07/2017   \n",
       "9  06/05/2018  05 - TXS     Costa,Gregg Jeffrey  09/07/2017   \n",
       "\n",
       "                     nominee vacancy_date vacancy_reason  \n",
       "0            Bibas,Stephanos   07/01/2015         Senior  \n",
       "1      Coggins Jr.,Donald C.   11/16/2014         Senior  \n",
       "2  Quattlebaum Jr.,A. Marvin   10/03/2013         Senior  \n",
       "3         Duncan,Stuart Kyle   12/31/2016         Senior  \n",
       "4         Engelhardt,Kurt D.   05/09/2018         Senior  \n",
       "5                Ho,James C.   12/31/2013         Senior  \n",
       "6             Willett,Don R.   08/01/2012         Senior  \n",
       "7           Doughty,Terry A.   05/31/2016         Senior  \n",
       "8         Scholer,Karen Gren   05/01/2016        Retired  \n",
       "9     Rodriguez Jr.,Fernando   05/20/2014       Elevated  "
      ]
     },
     "execution_count": 13,
     "metadata": {},
     "output_type": "execute_result"
    }
   ],
   "source": [
    "confirmations = []\n",
    "\n",
    "rows = driver.find_elements_by_tag_name('tr')\n",
    "\n",
    "for row in rows:\n",
    "    \n",
    "    cells = row.find_elements_by_css_selector('td')\n",
    "    \n",
    "    if not cells:\n",
    "        print(\"null\")\n",
    "    \n",
    "    else:   \n",
    "        data = {\n",
    "            'nominee': cells[0].text,\n",
    "            'nom_date': cells[1].text,\n",
    "            'conf_date': cells[2].text,\n",
    "            'court':  cells[3].text,\n",
    "            'incumbent': cells[4].text,\n",
    "            'vacancy_reason': cells[5].text,\n",
    "            'vacancy_date': cells[-1].text\n",
    "        }\n",
    "        \n",
    "        confirmations.append(data)\n",
    "\n",
    "import pandas as pd\n",
    "\n",
    "df = pd.DataFrame(confirmations)\n",
    "df.to_csv(\"judge_confirmations.csv\", index=False)\n",
    "df.head(10)"
   ]
  },
  {
   "cell_type": "markdown",
   "metadata": {},
   "source": [
    "## A list of the U.S. Courts of Appeals Judges (13 Courts)\n",
    "Based on an Advanced Search in the Federal Judiciary Center, the research and education agency of the judicial branch. https://www.fjc.gov/history/judges/search/advanced-search"
   ]
  },
  {
   "cell_type": "code",
   "execution_count": 91,
   "metadata": {},
   "outputs": [],
   "source": [
    "import time\n",
    "from selenium import webdriver\n",
    "from selenium.webdriver.common.keys import Keys\n",
    "from selenium.webdriver.support.ui import Select\n",
    "from selenium.webdriver.support.ui import WebDriverWait\n",
    "from selenium.common.exceptions import NoSuchElementException"
   ]
  },
  {
   "cell_type": "code",
   "execution_count": 92,
   "metadata": {},
   "outputs": [],
   "source": [
    "#Pull names for Court of Appeals and Sitting Judge\n",
    "driver = webdriver.Chrome()\n",
    "driver.get('https://www.fjc.gov/history/judges/search/advanced-search')"
   ]
  },
  {
   "cell_type": "code",
   "execution_count": 93,
   "metadata": {},
   "outputs": [],
   "source": [
    "#Click the Court button\n",
    "button = driver.find_element_by_xpath(\"//*[@id='views_ef_fieldset-wrapper']/div/div/fieldset/div/fieldset[1]/legend/span/a\")\n",
    "button.click()\n",
    "time.sleep(1)"
   ]
  },
  {
   "cell_type": "code",
   "execution_count": 94,
   "metadata": {},
   "outputs": [],
   "source": [
    "#Click the U.S. Court of Appeals button\n",
    "dis_button = driver.find_element_by_xpath(\"//*[@id='edit-court-appeals-wrapper']/div/div/fieldset/legend/span/a\")\n",
    "dis_button.click()\n",
    "time.sleep(1)"
   ]
  },
  {
   "cell_type": "code",
   "execution_count": 95,
   "metadata": {},
   "outputs": [],
   "source": [
    "#Click the Select All button\n",
    "select_all = driver.find_element_by_xpath(\"//*[@id='edit-court-appeals-wrapper']/div/div/fieldset/div/div/a\")\n",
    "select_all.click()"
   ]
  },
  {
   "cell_type": "code",
   "execution_count": 96,
   "metadata": {},
   "outputs": [],
   "source": [
    "#Click 'Limit to Sitting Judges'\n",
    "current_button = driver.find_element_by_xpath(\"//*[@id='views_ef_fieldset-wrapper']/div/div/fieldset/div/fieldset[6]/legend/span/a\")\n",
    "current_button.click()\n",
    "time.sleep(1)"
   ]
  },
  {
   "cell_type": "code",
   "execution_count": 97,
   "metadata": {},
   "outputs": [],
   "source": [
    "#Click \"All Sitting Judges\"\n",
    "sit_button = driver.find_element_by_id(\"edit-limit-sitting-judges-1\")\n",
    "sit_button.click()\n",
    "time.sleep(1)"
   ]
  },
  {
   "cell_type": "code",
   "execution_count": 98,
   "metadata": {},
   "outputs": [],
   "source": [
    "#Click Search Button\n",
    "search = driver.find_element_by_id(\"edit-submit-history-judges-advanced-search\")\n",
    "search.click()\n",
    "time.sleep(5)"
   ]
  },
  {
   "cell_type": "code",
   "execution_count": 100,
   "metadata": {},
   "outputs": [],
   "source": [
    "#Click on the Window for Judges\n",
    "judge = driver.find_element_by_class_name(\"colorbox-node\")\n",
    "judge.click()"
   ]
  },
  {
   "cell_type": "code",
   "execution_count": null,
   "metadata": {},
   "outputs": [],
   "source": [
    "#Scrape the Search Results Names with the intention of using RegEx to search\n",
    "time.sleep(2)\n",
    "\n",
    "sitting_judges = []\n",
    "count = 0\n",
    "\n",
    "while (count < 273):\n",
    "    rows = driver.find_elements_by_id('cboxContent')\n",
    "    for row in rows:\n",
    "        data = {\n",
    "            'name': row.find_element_by_css_selector(\"h1\").text,\n",
    "            'bio': row.find_element_by_class_name(\"field\").text\n",
    "        }\n",
    "    \n",
    "    sitting_judges.append(data)\n",
    "    count = count + 1\n",
    "    driver.find_element_by_id(\"cboxNext\").click()\n",
    "    time.sleep(4)\n",
    "                \n",
    "import pandas as pd\n",
    "sitting_df = pd.DataFrame(sitting_judges)\n",
    "sitting_df.to_csv(\"sitting_judge_names.csv\", index=False)"
   ]
  },
  {
   "cell_type": "code",
   "execution_count": 19,
   "metadata": {},
   "outputs": [
    {
     "data": {
      "text/html": [
       "<div>\n",
       "<style scoped>\n",
       "    .dataframe tbody tr th:only-of-type {\n",
       "        vertical-align: middle;\n",
       "    }\n",
       "\n",
       "    .dataframe tbody tr th {\n",
       "        vertical-align: top;\n",
       "    }\n",
       "\n",
       "    .dataframe thead th {\n",
       "        text-align: right;\n",
       "    }\n",
       "</style>\n",
       "<table border=\"1\" class=\"dataframe\">\n",
       "  <thead>\n",
       "    <tr style=\"text-align: right;\">\n",
       "      <th></th>\n",
       "      <th>bio</th>\n",
       "      <th>name</th>\n",
       "    </tr>\n",
       "  </thead>\n",
       "  <tbody>\n",
       "    <tr>\n",
       "      <th>0</th>\n",
       "      <td>Born 1954 in Robersonville, NC\\n\\nFederal Judicial Service:\\nJudge, U.S. Court of Appeals for the Fourth Circuit\\nNominated by Barack Obama on November 4, 2009, to a seat vacated by James Dickson Phillips, Jr. Confirmed by the Senate on August 5, 2010, and received commission on August 10, 2010.\\n\\nEducation:\\nUniversity of North Carolina, B.A., 1975\\nMarquette University Law School, J.D., 1979\\nUniversity of Virginia School of Law, LL.M., 1995\\n\\nProfessional Career:\\nU.S. Navy captain, JAG Corps, 1979-1983\\nU.S. Naval Reserve captain, JAG Corps, 1983-2009\\nAssistant appellate defender, State of North Carolina, 1983-1984\\nPrivate practice, Wilson and Greenville, North Carolina, 1984-1990\\nAssociate judge, North Carolina Court of Appeals, 1990-1998, 1999-2010\\nAssociate justice, Supreme Court of North Carolina, 1998\\nOther Nominations/Recess Appointments:\\nNominated to U.S. Court of Appeals for the Fourth Circuit, August 5, 1999; no Senate vote\\nNominated to U.S. Court of Appeals for the Fourth Circuit, January 3, 2001; nomination withdrawn by president, March 19, 2001</td>\n",
       "      <td>Wynn, James Andrew, Jr.</td>\n",
       "    </tr>\n",
       "    <tr>\n",
       "      <th>1</th>\n",
       "      <td>Born 1952 in Roanoke, VA\\n\\nFederal Judicial Service:\\nJudge, U.S. Court of Appeals for the Fourth Circuit\\nNominated by George W. Bush on March 13, 2008, to a seat vacated by J. Michael Luttig. Confirmed by the Senate on May 20, 2008, and received commission on July 1, 2008.\\n\\nEducation:\\nBridgewater College, B.A., 1974\\nUniversity of Virginia School of Law, J.D., 1977\\nNew York University School of Law, LL.M., 1978\\n\\nProfessional Career:\\nU.S. Army Reserve, 1986-1997\\nPrivate practice, Roanoke, Virginia, 1977-2000\\nState delegate, Virginia, 1982-1994\\nJudge, Court of Appeals of Virginia, 2001-2003\\nJustice, Supreme Court of Virginia, 2003-2008</td>\n",
       "      <td>Agee, G. Steven</td>\n",
       "    </tr>\n",
       "    <tr>\n",
       "      <th>2</th>\n",
       "      <td>Born 1949 in Cambridge, OH\\n\\nFederal Judicial Service:\\nJudge, U.S. Court of Appeals for the Third Circuit\\nNominated by William J. Clinton on September 28, 1999, to a seat vacated by Walter K. Stapleton. Confirmed by the Senate on February 10, 2000, and received commission on February 16, 2000.\\n\\nEducation:\\nGeorgetown University, B.A., 1971\\nGeorgetown University Law Center, J.D., 1975\\n\\nProfessional Career:\\nLaw clerk, Hon. Daniel L. Herrmann, Delaware Supreme Court, 1975-1976\\nPrivate practice, Wilmington, Delaware, 1976-2000</td>\n",
       "      <td>Ambro, Thomas L.</td>\n",
       "    </tr>\n",
       "    <tr>\n",
       "      <th>3</th>\n",
       "      <td>Born 1936 in Macon, GA\\n\\nFederal Judicial Service:\\nJudge, U.S. Court of Appeals for the Fifth Circuit\\nNominated by Jimmy Carter on April 18, 1979, to a new seat authorized by 92 Stat. 1629. Confirmed by the Senate on July 12, 1979, and received commission on July 13, 1979. Service terminated on October 1, 1981, due to reassignment.\\n\\nJudge, U.S. Court of Appeals for the Eleventh Circuit\\nReassigned on October 1, 1981, to a new seat authorized by 94 Stat. 1994. Served as chief judge, 1999-2002. Assumed senior status on January 31, 2009.\\n\\nEducation:\\nYale College, A.B., 1958\\nHarvard Law School, LL.B., 1961\\n\\nProfessional Career:\\nPrivate practice, Macon, Georgia, 1961, 1963-1979\\nU.S. Army captain, 1961-1963\\nMember, Judicial Conference of the United States, 1999-2002</td>\n",
       "      <td>Anderson, R[obert] Lanier III</td>\n",
       "    </tr>\n",
       "    <tr>\n",
       "      <th>4</th>\n",
       "      <td>Born 1932 in Salt Lake City, UT\\n\\nFederal Judicial Service:\\nJudge, U.S. Court of Appeals for the Tenth Circuit\\nNominated by Ronald Reagan on July 23, 1985, to a new seat authorized by 98 Stat. 333. Confirmed by the Senate on October 16, 1985, and received commission on October 16, 1985. Assumed senior status on January 1, 2000.\\n\\nEducation:\\nUniversity of Utah College of Law, LL.B., 1960\\n\\nProfessional Career:\\nU.S. Army 44th Infantry Division, 1953-1955\\nTrial attorney, Tax Division, U.S. Department of Justice, 1960-1964\\nPrivate practice, Salt Lake City, Utah, 1964-1985</td>\n",
       "      <td>Anderson, Stephen Hale</td>\n",
       "    </tr>\n",
       "  </tbody>\n",
       "</table>\n",
       "</div>"
      ],
      "text/plain": [
       "                                                                                                                                                                                                                                                                                                                                                                                                                                                                                                                                                                                                                                                                                                                                                                                                                                                                                                                                                                                                                                                                                                                             bio  \\\n",
       "0  Born 1954 in Robersonville, NC\\n\\nFederal Judicial Service:\\nJudge, U.S. Court of Appeals for the Fourth Circuit\\nNominated by Barack Obama on November 4, 2009, to a seat vacated by James Dickson Phillips, Jr. Confirmed by the Senate on August 5, 2010, and received commission on August 10, 2010.\\n\\nEducation:\\nUniversity of North Carolina, B.A., 1975\\nMarquette University Law School, J.D., 1979\\nUniversity of Virginia School of Law, LL.M., 1995\\n\\nProfessional Career:\\nU.S. Navy captain, JAG Corps, 1979-1983\\nU.S. Naval Reserve captain, JAG Corps, 1983-2009\\nAssistant appellate defender, State of North Carolina, 1983-1984\\nPrivate practice, Wilson and Greenville, North Carolina, 1984-1990\\nAssociate judge, North Carolina Court of Appeals, 1990-1998, 1999-2010\\nAssociate justice, Supreme Court of North Carolina, 1998\\nOther Nominations/Recess Appointments:\\nNominated to U.S. Court of Appeals for the Fourth Circuit, August 5, 1999; no Senate vote\\nNominated to U.S. Court of Appeals for the Fourth Circuit, January 3, 2001; nomination withdrawn by president, March 19, 2001   \n",
       "1  Born 1952 in Roanoke, VA\\n\\nFederal Judicial Service:\\nJudge, U.S. Court of Appeals for the Fourth Circuit\\nNominated by George W. Bush on March 13, 2008, to a seat vacated by J. Michael Luttig. Confirmed by the Senate on May 20, 2008, and received commission on July 1, 2008.\\n\\nEducation:\\nBridgewater College, B.A., 1974\\nUniversity of Virginia School of Law, J.D., 1977\\nNew York University School of Law, LL.M., 1978\\n\\nProfessional Career:\\nU.S. Army Reserve, 1986-1997\\nPrivate practice, Roanoke, Virginia, 1977-2000\\nState delegate, Virginia, 1982-1994\\nJudge, Court of Appeals of Virginia, 2001-2003\\nJustice, Supreme Court of Virginia, 2003-2008                                                                                                                                                                                                                                                                                                                                                                                                                                                 \n",
       "2  Born 1949 in Cambridge, OH\\n\\nFederal Judicial Service:\\nJudge, U.S. Court of Appeals for the Third Circuit\\nNominated by William J. Clinton on September 28, 1999, to a seat vacated by Walter K. Stapleton. Confirmed by the Senate on February 10, 2000, and received commission on February 16, 2000.\\n\\nEducation:\\nGeorgetown University, B.A., 1971\\nGeorgetown University Law Center, J.D., 1975\\n\\nProfessional Career:\\nLaw clerk, Hon. Daniel L. Herrmann, Delaware Supreme Court, 1975-1976\\nPrivate practice, Wilmington, Delaware, 1976-2000                                                                                                                                                                                                                                                                                                                                                                                                                                                                                                                                                                      \n",
       "3  Born 1936 in Macon, GA\\n\\nFederal Judicial Service:\\nJudge, U.S. Court of Appeals for the Fifth Circuit\\nNominated by Jimmy Carter on April 18, 1979, to a new seat authorized by 92 Stat. 1629. Confirmed by the Senate on July 12, 1979, and received commission on July 13, 1979. Service terminated on October 1, 1981, due to reassignment.\\n\\nJudge, U.S. Court of Appeals for the Eleventh Circuit\\nReassigned on October 1, 1981, to a new seat authorized by 94 Stat. 1994. Served as chief judge, 1999-2002. Assumed senior status on January 31, 2009.\\n\\nEducation:\\nYale College, A.B., 1958\\nHarvard Law School, LL.B., 1961\\n\\nProfessional Career:\\nPrivate practice, Macon, Georgia, 1961, 1963-1979\\nU.S. Army captain, 1961-1963\\nMember, Judicial Conference of the United States, 1999-2002                                                                                                                                                                                                                                                                                                                \n",
       "4  Born 1932 in Salt Lake City, UT\\n\\nFederal Judicial Service:\\nJudge, U.S. Court of Appeals for the Tenth Circuit\\nNominated by Ronald Reagan on July 23, 1985, to a new seat authorized by 98 Stat. 333. Confirmed by the Senate on October 16, 1985, and received commission on October 16, 1985. Assumed senior status on January 1, 2000.\\n\\nEducation:\\nUniversity of Utah College of Law, LL.B., 1960\\n\\nProfessional Career:\\nU.S. Army 44th Infantry Division, 1953-1955\\nTrial attorney, Tax Division, U.S. Department of Justice, 1960-1964\\nPrivate practice, Salt Lake City, Utah, 1964-1985                                                                                                                                                                                                                                                                                                                                                                                                                                                                                                                         \n",
       "\n",
       "                            name  \n",
       "0  Wynn, James Andrew, Jr.        \n",
       "1  Agee, G. Steven                \n",
       "2  Ambro, Thomas L.               \n",
       "3  Anderson, R[obert] Lanier III  \n",
       "4  Anderson, Stephen Hale         "
      ]
     },
     "execution_count": 19,
     "metadata": {},
     "output_type": "execute_result"
    }
   ],
   "source": [
    "import pandas as pd\n",
    "df = pd.read_csv(\"appel_court_sitting_judge_names.csv\")\n",
    "df.head(5)"
   ]
  },
  {
   "cell_type": "markdown",
   "metadata": {},
   "source": [
    "## A list of the U.S. District Court judges (94 Courts)\n",
    "Based on an Advanced Search in the Federal Judiciary Center, the research and education agency of the judicial branch. https://www.fjc.gov/history/courts/u.s.-district-courts-and-federal-judiciary"
   ]
  },
  {
   "cell_type": "code",
   "execution_count": 1,
   "metadata": {},
   "outputs": [],
   "source": [
    "import time\n",
    "from selenium import webdriver\n",
    "from selenium.webdriver.common.keys import Keys\n",
    "from selenium.webdriver.support.ui import Select\n",
    "from selenium.webdriver.support.ui import WebDriverWait\n",
    "from selenium.common.exceptions import NoSuchElementException"
   ]
  },
  {
   "cell_type": "code",
   "execution_count": 2,
   "metadata": {},
   "outputs": [],
   "source": [
    "#Pull names for Court of Appeals and Sitting Judge\n",
    "driver = webdriver.Chrome()\n",
    "driver.get('https://www.fjc.gov/history/judges/search/advanced-search')"
   ]
  },
  {
   "cell_type": "code",
   "execution_count": 3,
   "metadata": {},
   "outputs": [],
   "source": [
    "#Click the Court button\n",
    "button = driver.find_element_by_xpath(\"//*[@id='views_ef_fieldset-wrapper']/div/div/fieldset/div/fieldset[1]/legend/span/a\")\n",
    "button.click()\n",
    "time.sleep(1)"
   ]
  },
  {
   "cell_type": "code",
   "execution_count": 4,
   "metadata": {},
   "outputs": [],
   "source": [
    "#Click the U.S. District Courts button\n",
    "dis_button = driver.find_element_by_xpath(\"//*[@id='edit-court-district-wrapper']/div/div/fieldset/legend/span/a\")\n",
    "dis_button.click()\n",
    "time.sleep(1)"
   ]
  },
  {
   "cell_type": "code",
   "execution_count": 5,
   "metadata": {},
   "outputs": [],
   "source": [
    "#Click the Select All button\n",
    "select_all = driver.find_element_by_xpath(\"//*[@id='edit-court-district-wrapper']/div/div/fieldset/div/div/a\")\n",
    "select_all.click()"
   ]
  },
  {
   "cell_type": "code",
   "execution_count": 6,
   "metadata": {},
   "outputs": [],
   "source": [
    "#Click 'Limit to Sitting Judges'\n",
    "current_button = driver.find_element_by_xpath(\"//*[@id='views_ef_fieldset-wrapper']/div/div/fieldset/div/fieldset[6]/legend/span/a\")\n",
    "current_button.click()\n",
    "time.sleep(1)"
   ]
  },
  {
   "cell_type": "code",
   "execution_count": 7,
   "metadata": {},
   "outputs": [],
   "source": [
    "#Click \"All Sitting Judges\"\n",
    "sit_button = driver.find_element_by_id(\"edit-limit-sitting-judges-1\")\n",
    "sit_button.click()\n",
    "time.sleep(1)"
   ]
  },
  {
   "cell_type": "code",
   "execution_count": 8,
   "metadata": {},
   "outputs": [],
   "source": [
    "#Click Search Button\n",
    "search = driver.find_element_by_id(\"edit-submit-history-judges-advanced-search\")\n",
    "search.click()\n",
    "time.sleep(5)"
   ]
  },
  {
   "cell_type": "code",
   "execution_count": 9,
   "metadata": {},
   "outputs": [],
   "source": [
    "#Click on the Window for Judges\n",
    "judge = driver.find_element_by_class_name(\"colorbox-node\")\n",
    "judge.click()"
   ]
  },
  {
   "cell_type": "code",
   "execution_count": 11,
   "metadata": {
    "scrolled": true
   },
   "outputs": [
    {
     "data": {
      "text/html": [
       "<div>\n",
       "<style scoped>\n",
       "    .dataframe tbody tr th:only-of-type {\n",
       "        vertical-align: middle;\n",
       "    }\n",
       "\n",
       "    .dataframe tbody tr th {\n",
       "        vertical-align: top;\n",
       "    }\n",
       "\n",
       "    .dataframe thead th {\n",
       "        text-align: right;\n",
       "    }\n",
       "</style>\n",
       "<table border=\"1\" class=\"dataframe\">\n",
       "  <thead>\n",
       "    <tr style=\"text-align: right;\">\n",
       "      <th></th>\n",
       "      <th>bio</th>\n",
       "      <th>name</th>\n",
       "    </tr>\n",
       "  </thead>\n",
       "  <tbody>\n",
       "    <tr>\n",
       "      <th>0</th>\n",
       "      <td>Born 1974 in Madison, WI\\n\\nFederal Judicial S...</td>\n",
       "      <td>Abrams, Leslie Joyce</td>\n",
       "    </tr>\n",
       "    <tr>\n",
       "      <th>1</th>\n",
       "      <td>Born 1968 in New York, NY\\n\\nFederal Judicial ...</td>\n",
       "      <td>Abrams, Ronnie</td>\n",
       "    </tr>\n",
       "    <tr>\n",
       "      <th>2</th>\n",
       "      <td>Born 1945 in Jacksonville, FL\\n\\nFederal Judic...</td>\n",
       "      <td>Adams, Henry Lee, Jr.</td>\n",
       "    </tr>\n",
       "    <tr>\n",
       "      <th>3</th>\n",
       "      <td>Born 1955 in Orrville, OH\\n\\nFederal Judicial ...</td>\n",
       "      <td>Adams, John R.</td>\n",
       "    </tr>\n",
       "    <tr>\n",
       "      <th>4</th>\n",
       "      <td>Born 1939 in Milwaukee, WI\\n\\nFederal Judicial...</td>\n",
       "      <td>Adelman, Lynn S.</td>\n",
       "    </tr>\n",
       "  </tbody>\n",
       "</table>\n",
       "</div>"
      ],
      "text/plain": [
       "                                                 bio                   name\n",
       "0  Born 1974 in Madison, WI\\n\\nFederal Judicial S...   Abrams, Leslie Joyce\n",
       "1  Born 1968 in New York, NY\\n\\nFederal Judicial ...         Abrams, Ronnie\n",
       "2  Born 1945 in Jacksonville, FL\\n\\nFederal Judic...  Adams, Henry Lee, Jr.\n",
       "3  Born 1955 in Orrville, OH\\n\\nFederal Judicial ...         Adams, John R.\n",
       "4  Born 1939 in Milwaukee, WI\\n\\nFederal Judicial...       Adelman, Lynn S."
      ]
     },
     "execution_count": 11,
     "metadata": {},
     "output_type": "execute_result"
    }
   ],
   "source": [
    "#Scrape the Search Results Names with the intention of using RegEx to search\n",
    "\n",
    "district_judges = []\n",
    "count = 0\n",
    "\n",
    "while (count < 1007):\n",
    "    pages = driver.find_elements_by_id('cboxContent')\n",
    "    for page in pages:\n",
    "        data = {\n",
    "            'name': page.find_element_by_css_selector(\"h1\").text,\n",
    "            'bio': page.find_element_by_class_name(\"field\").text\n",
    "        }\n",
    "    \n",
    "    district_judges.append(data)\n",
    "    count = count + 1\n",
    "    driver.find_element_by_id(\"cboxNext\").click()\n",
    "    time.sleep(2)\n",
    "                \n",
    "import pandas as pd\n",
    "district_df = pd.DataFrame(district_judges)\n",
    "district_df.to_csv(\"district_judge_names.csv\", index=False)\n",
    "district_df.head()"
   ]
  },
  {
   "cell_type": "markdown",
   "metadata": {},
   "source": [
    "## RegEx to clean the Court of Appeals dataframe"
   ]
  },
  {
   "cell_type": "code",
   "execution_count": 2,
   "metadata": {},
   "outputs": [
    {
     "data": {
      "text/plain": [
       "['bio', 'name']"
      ]
     },
     "execution_count": 2,
     "metadata": {},
     "output_type": "execute_result"
    }
   ],
   "source": [
    "import pandas as pd\n",
    "df = pd.read_csv(\"appel_court_sitting_judge_names.csv\")\n",
    "cols = list(df.columns.values)\n",
    "cols"
   ]
  },
  {
   "cell_type": "code",
   "execution_count": 3,
   "metadata": {
    "scrolled": false
   },
   "outputs": [
    {
     "data": {
      "text/html": [
       "<div>\n",
       "<style scoped>\n",
       "    .dataframe tbody tr th:only-of-type {\n",
       "        vertical-align: middle;\n",
       "    }\n",
       "\n",
       "    .dataframe tbody tr th {\n",
       "        vertical-align: top;\n",
       "    }\n",
       "\n",
       "    .dataframe thead th {\n",
       "        text-align: right;\n",
       "    }\n",
       "</style>\n",
       "<table border=\"1\" class=\"dataframe\">\n",
       "  <thead>\n",
       "    <tr style=\"text-align: right;\">\n",
       "      <th></th>\n",
       "      <th>name</th>\n",
       "      <th>bio</th>\n",
       "    </tr>\n",
       "  </thead>\n",
       "  <tbody>\n",
       "    <tr>\n",
       "      <th>0</th>\n",
       "      <td>Wynn, James Andrew, Jr.</td>\n",
       "      <td>Born 1954 in Robersonville, NC\\n\\nFederal Judi...</td>\n",
       "    </tr>\n",
       "    <tr>\n",
       "      <th>1</th>\n",
       "      <td>Agee, G. Steven</td>\n",
       "      <td>Born 1952 in Roanoke, VA\\n\\nFederal Judicial S...</td>\n",
       "    </tr>\n",
       "    <tr>\n",
       "      <th>2</th>\n",
       "      <td>Ambro, Thomas L.</td>\n",
       "      <td>Born 1949 in Cambridge, OH\\n\\nFederal Judicial...</td>\n",
       "    </tr>\n",
       "  </tbody>\n",
       "</table>\n",
       "</div>"
      ],
      "text/plain": [
       "                      name                                                bio\n",
       "0  Wynn, James Andrew, Jr.  Born 1954 in Robersonville, NC\\n\\nFederal Judi...\n",
       "1          Agee, G. Steven  Born 1952 in Roanoke, VA\\n\\nFederal Judicial S...\n",
       "2         Ambro, Thomas L.  Born 1949 in Cambridge, OH\\n\\nFederal Judicial..."
      ]
     },
     "execution_count": 3,
     "metadata": {},
     "output_type": "execute_result"
    }
   ],
   "source": [
    "df = df[['name', 'bio']]\n",
    "df.head(3)"
   ]
  },
  {
   "cell_type": "code",
   "execution_count": 4,
   "metadata": {},
   "outputs": [
    {
     "data": {
      "text/html": [
       "<div>\n",
       "<style scoped>\n",
       "    .dataframe tbody tr th:only-of-type {\n",
       "        vertical-align: middle;\n",
       "    }\n",
       "\n",
       "    .dataframe tbody tr th {\n",
       "        vertical-align: top;\n",
       "    }\n",
       "\n",
       "    .dataframe thead th {\n",
       "        text-align: right;\n",
       "    }\n",
       "</style>\n",
       "<table border=\"1\" class=\"dataframe\">\n",
       "  <thead>\n",
       "    <tr style=\"text-align: right;\">\n",
       "      <th></th>\n",
       "      <th>name</th>\n",
       "      <th>bio</th>\n",
       "      <th>last_name</th>\n",
       "    </tr>\n",
       "  </thead>\n",
       "  <tbody>\n",
       "    <tr>\n",
       "      <th>0</th>\n",
       "      <td>Wynn, James Andrew, Jr.</td>\n",
       "      <td>Born 1954 in Robersonville, NC\\n\\nFederal Judi...</td>\n",
       "      <td>Wynn</td>\n",
       "    </tr>\n",
       "    <tr>\n",
       "      <th>1</th>\n",
       "      <td>Agee, G. Steven</td>\n",
       "      <td>Born 1952 in Roanoke, VA\\n\\nFederal Judicial S...</td>\n",
       "      <td>Agee</td>\n",
       "    </tr>\n",
       "    <tr>\n",
       "      <th>2</th>\n",
       "      <td>Ambro, Thomas L.</td>\n",
       "      <td>Born 1949 in Cambridge, OH\\n\\nFederal Judicial...</td>\n",
       "      <td>Ambro</td>\n",
       "    </tr>\n",
       "    <tr>\n",
       "      <th>3</th>\n",
       "      <td>Anderson, R[obert] Lanier III</td>\n",
       "      <td>Born 1936 in Macon, GA\\n\\nFederal Judicial Ser...</td>\n",
       "      <td>Anderson</td>\n",
       "    </tr>\n",
       "    <tr>\n",
       "      <th>4</th>\n",
       "      <td>Anderson, Stephen Hale</td>\n",
       "      <td>Born 1932 in Salt Lake City, UT\\n\\nFederal Jud...</td>\n",
       "      <td>Anderson</td>\n",
       "    </tr>\n",
       "  </tbody>\n",
       "</table>\n",
       "</div>"
      ],
      "text/plain": [
       "                            name  \\\n",
       "0        Wynn, James Andrew, Jr.   \n",
       "1                Agee, G. Steven   \n",
       "2               Ambro, Thomas L.   \n",
       "3  Anderson, R[obert] Lanier III   \n",
       "4         Anderson, Stephen Hale   \n",
       "\n",
       "                                                 bio last_name  \n",
       "0  Born 1954 in Robersonville, NC\\n\\nFederal Judi...      Wynn  \n",
       "1  Born 1952 in Roanoke, VA\\n\\nFederal Judicial S...      Agee  \n",
       "2  Born 1949 in Cambridge, OH\\n\\nFederal Judicial...     Ambro  \n",
       "3  Born 1936 in Macon, GA\\n\\nFederal Judicial Ser...  Anderson  \n",
       "4  Born 1932 in Salt Lake City, UT\\n\\nFederal Jud...  Anderson  "
      ]
     },
     "execution_count": 4,
     "metadata": {},
     "output_type": "execute_result"
    }
   ],
   "source": [
    "#Grab the last name of the judge\n",
    "import re\n",
    "\n",
    "df['last_name'] = df['name'].str.extract(r'\\b(\\w+)\\b')\n",
    "df.head()"
   ]
  },
  {
   "cell_type": "code",
   "execution_count": 5,
   "metadata": {
    "scrolled": true
   },
   "outputs": [
    {
     "data": {
      "text/plain": [
       "0            Wynn, James Andrew Jr.\n",
       "1                   Agee, G. Steven\n",
       "2                  Ambro, Thomas L.\n",
       "3     Anderson, R[obert] Lanier III\n",
       "4            Anderson, Stephen Hale\n",
       "5           Arnold, Morris Sheppard\n",
       "6           Bacharach, Robert Edwin\n",
       "7                Baldock, Bobby Ray\n",
       "8          Barksdale, Rhesa Hawkins\n",
       "9                Barrett, Amy Coney\n",
       "10           Barron, David Jeremiah\n",
       "11            Barry, Maryanne Trump\n",
       "12          Batchelder, Alice Moore\n",
       "13            Bauer, William Joseph\n",
       "14                   Bea, Carlos T.\n",
       "15           Beam, C[larence] Arlen\n",
       "16       Benavides, Fortunato Pedro\n",
       "17            Benton, William Duane\n",
       "18            Berzon, Marsha Siegel\n",
       "19                 Bibas, Stephanos\n",
       "20             Black, Susan Harrell\n",
       "21              Boggs, Danny Julian\n",
       "22                  Boudin, Michael\n",
       "23       Bowman, Pasco Middleton II\n",
       "24            Branch, Elizabeth Lee\n",
       "25           Brennan, Michael Brian\n",
       "26               Briscoe, Mary Beck\n",
       "27                     Brorby, Wade\n",
       "28           Bryson, William Curtis\n",
       "29              Buckley, James Lane\n",
       "Name: first_name, dtype: object"
      ]
     },
     "execution_count": 5,
     "metadata": {},
     "output_type": "execute_result"
    }
   ],
   "source": [
    "#Code to extract the first name\n",
    "df['first_name'] = df['name'].str.replace(', Jr.', ' Jr.')\n",
    "df['first_name'].head(30)"
   ]
  },
  {
   "cell_type": "code",
   "execution_count": 6,
   "metadata": {},
   "outputs": [],
   "source": [
    "df['first_name'] = df['name'].str.extract(r\", (.+)$\")"
   ]
  },
  {
   "cell_type": "code",
   "execution_count": 7,
   "metadata": {
    "scrolled": true
   },
   "outputs": [
    {
     "data": {
      "text/html": [
       "<div>\n",
       "<style scoped>\n",
       "    .dataframe tbody tr th:only-of-type {\n",
       "        vertical-align: middle;\n",
       "    }\n",
       "\n",
       "    .dataframe tbody tr th {\n",
       "        vertical-align: top;\n",
       "    }\n",
       "\n",
       "    .dataframe thead th {\n",
       "        text-align: right;\n",
       "    }\n",
       "</style>\n",
       "<table border=\"1\" class=\"dataframe\">\n",
       "  <thead>\n",
       "    <tr style=\"text-align: right;\">\n",
       "      <th></th>\n",
       "      <th>name</th>\n",
       "      <th>bio</th>\n",
       "      <th>last_name</th>\n",
       "      <th>first_name</th>\n",
       "    </tr>\n",
       "  </thead>\n",
       "  <tbody>\n",
       "    <tr>\n",
       "      <th>0</th>\n",
       "      <td>Wynn, James Andrew, Jr.</td>\n",
       "      <td>Born 1954 in Robersonville, NC\\n\\nFederal Judi...</td>\n",
       "      <td>Wynn</td>\n",
       "      <td>James Andrew, Jr.</td>\n",
       "    </tr>\n",
       "    <tr>\n",
       "      <th>1</th>\n",
       "      <td>Agee, G. Steven</td>\n",
       "      <td>Born 1952 in Roanoke, VA\\n\\nFederal Judicial S...</td>\n",
       "      <td>Agee</td>\n",
       "      <td>G. Steven</td>\n",
       "    </tr>\n",
       "    <tr>\n",
       "      <th>2</th>\n",
       "      <td>Ambro, Thomas L.</td>\n",
       "      <td>Born 1949 in Cambridge, OH\\n\\nFederal Judicial...</td>\n",
       "      <td>Ambro</td>\n",
       "      <td>Thomas L.</td>\n",
       "    </tr>\n",
       "    <tr>\n",
       "      <th>3</th>\n",
       "      <td>Anderson, R[obert] Lanier III</td>\n",
       "      <td>Born 1936 in Macon, GA\\n\\nFederal Judicial Ser...</td>\n",
       "      <td>Anderson</td>\n",
       "      <td>R[obert] Lanier III</td>\n",
       "    </tr>\n",
       "    <tr>\n",
       "      <th>4</th>\n",
       "      <td>Anderson, Stephen Hale</td>\n",
       "      <td>Born 1932 in Salt Lake City, UT\\n\\nFederal Jud...</td>\n",
       "      <td>Anderson</td>\n",
       "      <td>Stephen Hale</td>\n",
       "    </tr>\n",
       "    <tr>\n",
       "      <th>5</th>\n",
       "      <td>Arnold, Morris Sheppard</td>\n",
       "      <td>Born 1941 in Texarkana, TX\\n\\nFederal Judicial...</td>\n",
       "      <td>Arnold</td>\n",
       "      <td>Morris Sheppard</td>\n",
       "    </tr>\n",
       "    <tr>\n",
       "      <th>6</th>\n",
       "      <td>Bacharach, Robert Edwin</td>\n",
       "      <td>Born 1959 in Clarksdale, MS\\n\\nFederal Judicia...</td>\n",
       "      <td>Bacharach</td>\n",
       "      <td>Robert Edwin</td>\n",
       "    </tr>\n",
       "    <tr>\n",
       "      <th>7</th>\n",
       "      <td>Baldock, Bobby Ray</td>\n",
       "      <td>Born 1936 in Rocky, OK\\n\\nFederal Judicial Ser...</td>\n",
       "      <td>Baldock</td>\n",
       "      <td>Bobby Ray</td>\n",
       "    </tr>\n",
       "    <tr>\n",
       "      <th>8</th>\n",
       "      <td>Barksdale, Rhesa Hawkins</td>\n",
       "      <td>Born 1944 in Jackson, MS\\n\\nFederal Judicial S...</td>\n",
       "      <td>Barksdale</td>\n",
       "      <td>Rhesa Hawkins</td>\n",
       "    </tr>\n",
       "    <tr>\n",
       "      <th>9</th>\n",
       "      <td>Barrett, Amy Coney</td>\n",
       "      <td>Born 1972 in New Orleans, LA\\n\\nFederal Judici...</td>\n",
       "      <td>Barrett</td>\n",
       "      <td>Amy Coney</td>\n",
       "    </tr>\n",
       "  </tbody>\n",
       "</table>\n",
       "</div>"
      ],
      "text/plain": [
       "                            name  \\\n",
       "0        Wynn, James Andrew, Jr.   \n",
       "1                Agee, G. Steven   \n",
       "2               Ambro, Thomas L.   \n",
       "3  Anderson, R[obert] Lanier III   \n",
       "4         Anderson, Stephen Hale   \n",
       "5        Arnold, Morris Sheppard   \n",
       "6        Bacharach, Robert Edwin   \n",
       "7             Baldock, Bobby Ray   \n",
       "8       Barksdale, Rhesa Hawkins   \n",
       "9             Barrett, Amy Coney   \n",
       "\n",
       "                                                 bio  last_name  \\\n",
       "0  Born 1954 in Robersonville, NC\\n\\nFederal Judi...       Wynn   \n",
       "1  Born 1952 in Roanoke, VA\\n\\nFederal Judicial S...       Agee   \n",
       "2  Born 1949 in Cambridge, OH\\n\\nFederal Judicial...      Ambro   \n",
       "3  Born 1936 in Macon, GA\\n\\nFederal Judicial Ser...   Anderson   \n",
       "4  Born 1932 in Salt Lake City, UT\\n\\nFederal Jud...   Anderson   \n",
       "5  Born 1941 in Texarkana, TX\\n\\nFederal Judicial...     Arnold   \n",
       "6  Born 1959 in Clarksdale, MS\\n\\nFederal Judicia...  Bacharach   \n",
       "7  Born 1936 in Rocky, OK\\n\\nFederal Judicial Ser...    Baldock   \n",
       "8  Born 1944 in Jackson, MS\\n\\nFederal Judicial S...  Barksdale   \n",
       "9  Born 1972 in New Orleans, LA\\n\\nFederal Judici...    Barrett   \n",
       "\n",
       "            first_name  \n",
       "0    James Andrew, Jr.  \n",
       "1            G. Steven  \n",
       "2            Thomas L.  \n",
       "3  R[obert] Lanier III  \n",
       "4         Stephen Hale  \n",
       "5      Morris Sheppard  \n",
       "6         Robert Edwin  \n",
       "7            Bobby Ray  \n",
       "8        Rhesa Hawkins  \n",
       "9            Amy Coney  "
      ]
     },
     "execution_count": 7,
     "metadata": {},
     "output_type": "execute_result"
    }
   ],
   "source": [
    "df.head(10)"
   ]
  },
  {
   "cell_type": "code",
   "execution_count": 17,
   "metadata": {
    "scrolled": false
   },
   "outputs": [
    {
     "data": {
      "text/plain": [
       "0    Born 1954 in Robersonville, NC  Federal Judici...\n",
       "1    Born 1952 in Roanoke, VA  Federal Judicial Ser...\n",
       "2    Born 1949 in Cambridge, OH  Federal Judicial S...\n",
       "3    Born 1936 in Macon, GA  Federal Judicial Servi...\n",
       "4    Born 1932 in Salt Lake City, UT  Federal Judic...\n",
       "5    Born 1941 in Texarkana, TX  Federal Judicial S...\n",
       "6    Born 1959 in Clarksdale, MS  Federal Judicial ...\n",
       "7    Born 1936 in Rocky, OK  Federal Judicial Servi...\n",
       "8    Born 1944 in Jackson, MS  Federal Judicial Ser...\n",
       "9    Born 1972 in New Orleans, LA  Federal Judicial...\n",
       "Name: bio, dtype: object"
      ]
     },
     "execution_count": 17,
     "metadata": {},
     "output_type": "execute_result"
    }
   ],
   "source": [
    "df['bio'] = df['bio'].str.strip('\\n').str.replace('\\n',' ')\n",
    "df['bio'].head(10)"
   ]
  },
  {
   "cell_type": "markdown",
   "metadata": {},
   "source": [
    "## RegEx to extract the name of the Court where each judge serves"
   ]
  },
  {
   "cell_type": "code",
   "execution_count": 99,
   "metadata": {},
   "outputs": [],
   "source": [
    "df['court'] = df['bio'].str.extract(r'(\\bU.S. Court\\b(.*?)\\bCircuit\\b\\s)')[0]"
   ]
  },
  {
   "cell_type": "code",
   "execution_count": 100,
   "metadata": {},
   "outputs": [],
   "source": [
    "#Duplicate the Court column in order to create a merge column for the map\n",
    "df['court_code'] = df['court']"
   ]
  },
  {
   "cell_type": "markdown",
   "metadata": {},
   "source": [
    "## Extracting the President who nominated each judge and running through a function to determine each president's political party"
   ]
  },
  {
   "cell_type": "code",
   "execution_count": 14,
   "metadata": {},
   "outputs": [
    {
     "data": {
      "text/plain": [
       "0          Nominated by Barack Obama\n",
       "1        Nominated by George W. Bush\n",
       "2    Nominated by William J. Clinton\n",
       "3          Nominated by Jimmy Carter\n",
       "4         Nominated by Ronald Reagan\n",
       "5         Nominated by Ronald Reagan\n",
       "6          Nominated by Barack Obama\n",
       "7         Nominated by Ronald Reagan\n",
       "8      Nominated by George H.W. Bush\n",
       "9       Nominated by Donald J. Trump\n",
       "Name: president, dtype: object"
      ]
     },
     "execution_count": 14,
     "metadata": {},
     "output_type": "execute_result"
    }
   ],
   "source": [
    "#RegEx to extract the president's name\n",
    "df['president'] = df['bio'].str.extract(r'(\\bNominated by [\\w]*......[\\w]*)')\n",
    "df['president'].head(10)"
   ]
  },
  {
   "cell_type": "code",
   "execution_count": null,
   "metadata": {},
   "outputs": [],
   "source": [
    "# Function to determine the presidential party of each nominator\n",
    "def presidential_party(RepDem):\n",
    "    if RepDem == \"Nominated by Barack Obama\":\n",
    "        return \"Democrat\"\n",
    "    elif RepDem == \"Nominated by George W. Bush\":\n",
    "        return \"Republican\"\n",
    "    elif RepDem == \"Nominated by William J. Clinton\":\n",
    "        return \"Democrat\"\n",
    "    elif RepDem == \"Nominated by Jimmy Carter\":\n",
    "        return \"Democrat\"\n",
    "    elif RepDem == \"Nominated by Ronald Reagan\":\n",
    "        return \"Republican\"\n",
    "    elif RepDem == \"Nominated by George H.W. Bush\":\n",
    "        return \"Republican\"\n",
    "    elif RepDem == \"Nominated by Donald J. Trump\":\n",
    "        return \"Republican\"\n",
    "    elif RepDem == \"Nominated by Richard M. Nixon\":\n",
    "        return \"Republican\"\n",
    "    elif RepDem == \"Nominated by Lyndon B. Johnson\":\n",
    "        return \"Democrat\"\n",
    "    elif RepDem == \"Nominated by Gerald Ford on\":\n",
    "        return \"Republican\"\n",
    "    else:\n",
    "        return \"President Unknown\""
   ]
  },
  {
   "cell_type": "code",
   "execution_count": 132,
   "metadata": {},
   "outputs": [],
   "source": [
    "df['Presidential_Party'] = df.president.apply(presidential_party)"
   ]
  },
  {
   "cell_type": "markdown",
   "metadata": {},
   "source": [
    "## A List of the Genders of Judges: U.S. Court of Appeals (COA 13)\n",
    "https://www.fjc.gov/history/judges/search/women\n",
    "\n",
    "*Code Thought Process*: Once I have a list of the sitting judges in the district courts and court of appeals, I'd write a for loop where if the \"Gender\" Judge matched a name in the \"Court of Appeals\" or \"District Judge\" dictionaries, I'd have it save into a \"Women\" dictionary."
   ]
  },
  {
   "cell_type": "code",
   "execution_count": 213,
   "metadata": {},
   "outputs": [],
   "source": [
    "import time\n",
    "from selenium import webdriver\n",
    "from selenium.webdriver.common.keys import Keys\n",
    "from selenium.webdriver.common import action_chains\n",
    "from selenium.webdriver.support.ui import Select\n",
    "from selenium.webdriver.support.ui import WebDriverWait\n",
    "from selenium.common.exceptions import NoSuchElementException"
   ]
  },
  {
   "cell_type": "code",
   "execution_count": 214,
   "metadata": {},
   "outputs": [],
   "source": [
    "#Pull gender for Court of Appeals \n",
    "driver = webdriver.Chrome()\n",
    "driver.get('https://www.fjc.gov/history/judges/search/advanced-search')\n",
    "\n",
    "#Click the Court button\n",
    "button = driver.find_element_by_xpath(\"//*[@id='views_ef_fieldset-wrapper']/div/div/fieldset/div/fieldset[1]/legend/span/a\")\n",
    "button.click()\n",
    "time.sleep(1)\n",
    "\n",
    "#Click the U.S. Court of Appeals button\n",
    "dis_button = driver.find_element_by_xpath(\"//*[@id='edit-court-appeals-wrapper']/div/div/fieldset/legend/span/a\")\n",
    "dis_button.click()\n",
    "time.sleep(1)"
   ]
  },
  {
   "cell_type": "code",
   "execution_count": 215,
   "metadata": {},
   "outputs": [],
   "source": [
    "#Click the Select All button\n",
    "select_all = driver.find_element_by_xpath(\"//*[@id='edit-court-appeals-wrapper']/div/div/fieldset/div/div/a\")\n",
    "select_all.click()\n",
    "time.sleep(2)\n",
    "button.click()"
   ]
  },
  {
   "cell_type": "code",
   "execution_count": 216,
   "metadata": {},
   "outputs": [],
   "source": [
    "#Select Gender\n",
    "gender = driver.find_element_by_xpath(\"//*[@id='views_ef_fieldset-wrapper']/div/div/fieldset/div/fieldset[4]/legend/span/a\")\n",
    "gender.click()"
   ]
  },
  {
   "cell_type": "code",
   "execution_count": 217,
   "metadata": {},
   "outputs": [],
   "source": [
    "#Edit Gender\n",
    "edit_gender = driver.find_element_by_id(\"edit-gender\")\n",
    "edit_gender.click()"
   ]
  },
  {
   "cell_type": "code",
   "execution_count": 218,
   "metadata": {},
   "outputs": [],
   "source": [
    "#Click female\n",
    "female = driver.find_element_by_xpath(\"//*[@id='edit-gender']/option[2]\")\n",
    "female.click()\n",
    "time.sleep(2)\n",
    "gender.click()"
   ]
  },
  {
   "cell_type": "code",
   "execution_count": 219,
   "metadata": {},
   "outputs": [],
   "source": [
    "#Click 'Limit to Sitting Judges'\n",
    "current_button = driver.find_element_by_xpath(\"//*[@id='views_ef_fieldset-wrapper']/div/div/fieldset/div/fieldset[6]/legend/span/a\")\n",
    "current_button.click()\n",
    "time.sleep(1)"
   ]
  },
  {
   "cell_type": "code",
   "execution_count": 220,
   "metadata": {},
   "outputs": [],
   "source": [
    "#Click \"All Sitting Judges\"\n",
    "sit_button = driver.find_element_by_id(\"edit-limit-sitting-judges-1\")\n",
    "sit_button.click()\n",
    "time.sleep(1)\n",
    "\n",
    "#Click Search Button\n",
    "search = driver.find_element_by_id(\"edit-submit-history-judges-advanced-search\")\n",
    "search.click()\n",
    "time.sleep(5)"
   ]
  },
  {
   "cell_type": "code",
   "execution_count": 221,
   "metadata": {},
   "outputs": [],
   "source": [
    "#Click on the Window for Judges\n",
    "judge = driver.find_element_by_class_name(\"colorbox-node\")\n",
    "judge.click()"
   ]
  },
  {
   "cell_type": "code",
   "execution_count": 224,
   "metadata": {
    "scrolled": true
   },
   "outputs": [
    {
     "data": {
      "text/html": [
       "<div>\n",
       "<style scoped>\n",
       "    .dataframe tbody tr th:only-of-type {\n",
       "        vertical-align: middle;\n",
       "    }\n",
       "\n",
       "    .dataframe tbody tr th {\n",
       "        vertical-align: top;\n",
       "    }\n",
       "\n",
       "    .dataframe thead th {\n",
       "        text-align: right;\n",
       "    }\n",
       "</style>\n",
       "<table border=\"1\" class=\"dataframe\">\n",
       "  <thead>\n",
       "    <tr style=\"text-align: right;\">\n",
       "      <th></th>\n",
       "      <th>name</th>\n",
       "    </tr>\n",
       "  </thead>\n",
       "  <tbody>\n",
       "    <tr>\n",
       "      <th>0</th>\n",
       "      <td>Barrett, Amy Coney</td>\n",
       "    </tr>\n",
       "    <tr>\n",
       "      <th>1</th>\n",
       "      <td>Barry, Maryanne Trump</td>\n",
       "    </tr>\n",
       "    <tr>\n",
       "      <th>2</th>\n",
       "      <td>Batchelder, Alice Moore</td>\n",
       "    </tr>\n",
       "    <tr>\n",
       "      <th>3</th>\n",
       "      <td>Berzon, Marsha Siegel</td>\n",
       "    </tr>\n",
       "    <tr>\n",
       "      <th>4</th>\n",
       "      <td>Black, Susan Harrell</td>\n",
       "    </tr>\n",
       "  </tbody>\n",
       "</table>\n",
       "</div>"
      ],
      "text/plain": [
       "                      name\n",
       "0       Barrett, Amy Coney\n",
       "1    Barry, Maryanne Trump\n",
       "2  Batchelder, Alice Moore\n",
       "3    Berzon, Marsha Siegel\n",
       "4     Black, Susan Harrell"
      ]
     },
     "execution_count": 224,
     "metadata": {},
     "output_type": "execute_result"
    }
   ],
   "source": [
    "#Scrape the Search Results Names with the intention of using RegEx to search\n",
    "time.sleep(2)\n",
    "\n",
    "female_COA = []\n",
    "count = 0\n",
    "\n",
    "while (count < 73):\n",
    "    rows = driver.find_elements_by_id('cboxContent')\n",
    "    for row in rows:\n",
    "        data = {\n",
    "            'name': row.find_element_by_css_selector(\"h1\").text\n",
    "        }\n",
    "    \n",
    "    female_COA.append(data)\n",
    "    count = count + 1\n",
    "    driver.find_element_by_id(\"cboxNext\").click()\n",
    "    time.sleep(5)\n",
    "                \n",
    "import pandas as pd\n",
    "female_COA = pd.DataFrame(female_COA)\n",
    "female_COA.to_csv(\"female_court_of_appeals.csv\", index=False)\n",
    "female_COA.head()"
   ]
  },
  {
   "cell_type": "markdown",
   "metadata": {},
   "source": [
    "## Add  Genders of Judges to U.S. Court of Appeals Dataframe"
   ]
  },
  {
   "cell_type": "code",
   "execution_count": 26,
   "metadata": {
    "scrolled": true
   },
   "outputs": [
    {
     "data": {
      "text/plain": [
       "['Barrett, Amy Coney',\n",
       " 'Barry, Maryanne Trump',\n",
       " 'Batchelder, Alice Moore',\n",
       " 'Berzon, Marsha Siegel',\n",
       " 'Black, Susan Harrell',\n",
       " 'Branch, Elizabeth Lee',\n",
       " 'Briscoe, Mary Beck',\n",
       " 'Callahan, Consuelo Maria',\n",
       " 'Carnes, Julie E.',\n",
       " 'Carney, Susan Laura',\n",
       " 'Christen, Morgan',\n",
       " 'Clement, Edith Brown',\n",
       " 'Cook, Deborah L.',\n",
       " 'Daughtrey, Martha Craig',\n",
       " 'Donald, Bernice Bouie',\n",
       " 'Duncan, Allyson Kay',\n",
       " 'Eid, Allison Hartwell',\n",
       " 'Elrod, Jennifer Walker',\n",
       " 'Friedland, Michelle Taryn',\n",
       " 'Gibbons, Julia Smith',\n",
       " 'Graber, Susan',\n",
       " 'Harris, Pamela Ann',\n",
       " 'Haynes, Catharina',\n",
       " 'Henderson, Karen LeCraft',\n",
       " 'Hull, Frank M.',\n",
       " 'Ikuta, Sandra Segal',\n",
       " 'Jones, Edith Hollan',\n",
       " 'Kearse, Amalya Lyle',\n",
       " 'Keenan, Barbara Milano',\n",
       " 'Kelly, Jane Louise',\n",
       " 'King, Carolyn Dineen',\n",
       " 'Krause, Cheryl Ann',\n",
       " 'Larsen, Joan Louise',\n",
       " 'Livingston, Debra Ann',\n",
       " 'Lynch, Sandra Lea',\n",
       " 'Martin, Beverly Baldwin',\n",
       " 'McHugh, Carolyn Baldwin',\n",
       " 'McKeown, M. Margaret',\n",
       " 'Millett, Patricia Ann',\n",
       " 'Moore, Karen Nelson',\n",
       " 'Moore, Kimberly Ann',\n",
       " 'Moritz, Nancy Louise',\n",
       " 'Motz, Diana Jane Gribbon',\n",
       " 'Murguia, Mary Helen',\n",
       " 'Nelson, Dorothy Wright',\n",
       " 'Newman, Pauline',\n",
       " 'Nguyen, Jacqueline Hong-Ngoc',\n",
       " \"O'Malley, Kathleen McDonald\",\n",
       " 'Owen, Priscilla Richman',\n",
       " 'Pillard, Cornelia Thayer Livingston',\n",
       " 'Pooler, Rosemary S.',\n",
       " 'Prost, Sharon',\n",
       " 'Pryor, Jill Anne',\n",
       " 'Raggi, Reena',\n",
       " 'Rawlinson, Johnnie B.',\n",
       " 'Rendell, Marjorie O.',\n",
       " 'Rogers, Judith Ann Wilson',\n",
       " 'Rosenbaum, Robin Stacie',\n",
       " 'Roth, Jane Richards',\n",
       " 'Rovner, Ilana Kara Diamond',\n",
       " 'Schroeder, Mary Murphy',\n",
       " 'Seymour, Stephanie Kulp',\n",
       " 'Shwartz, Patty',\n",
       " 'Sloviter, Dolores Korman',\n",
       " 'St. Eve, Amy Joan',\n",
       " 'Stoll, Kara Farnandez',\n",
       " 'Stranch, Jane Branstetter',\n",
       " 'Sykes, Diane S.',\n",
       " 'Thacker, Stephanie Dawn',\n",
       " 'Thompson, Ojetta Rogeriee',\n",
       " 'Wardlaw, Kim McLane',\n",
       " 'White, Helene N.',\n",
       " 'Wood, Diane Pamela']"
      ]
     },
     "execution_count": 26,
     "metadata": {},
     "output_type": "execute_result"
    }
   ],
   "source": [
    "female_COA = pd.read_csv(\"female_court_of_appeals.csv\", na_values=['nan'])\n",
    "female_COA = list(female_COA['name'])\n",
    "female_COA"
   ]
  },
  {
   "cell_type": "code",
   "execution_count": 64,
   "metadata": {},
   "outputs": [],
   "source": [
    "#Add a Gender column. if name in FemaleCOA is also in df['name'], \n",
    "#then return \"Female\" to a third column/list, called 'gender'\n",
    "\n",
    "def get_gender(row):\n",
    "    gender = \"Male\"\n",
    "    \n",
    "    for nm in female_COA:\n",
    "        if nm == row:\n",
    "            gender = 'Female'\n",
    "    return gender\n",
    "\n",
    "df['gender'] = df['name'].apply(lambda x: get_gender(x))"
   ]
  },
  {
   "cell_type": "code",
   "execution_count": 65,
   "metadata": {
    "scrolled": false
   },
   "outputs": [
    {
     "data": {
      "text/plain": [
       "0      Male\n",
       "1      Male\n",
       "2      Male\n",
       "3      Male\n",
       "4      Male\n",
       "5      Male\n",
       "6      Male\n",
       "7      Male\n",
       "8      Male\n",
       "9    Female\n",
       "Name: gender, dtype: object"
      ]
     },
     "execution_count": 65,
     "metadata": {},
     "output_type": "execute_result"
    }
   ],
   "source": [
    "df['gender'].head(10)"
   ]
  },
  {
   "cell_type": "code",
   "execution_count": 60,
   "metadata": {
    "scrolled": true
   },
   "outputs": [
    {
     "data": {
      "text/plain": [
       "Index(['name', 'first_name', 'last_name', 'gender', 'president',\n",
       "       'Presidential_Party', 'bio'],\n",
       "      dtype='object')"
      ]
     },
     "execution_count": 60,
     "metadata": {},
     "output_type": "execute_result"
    }
   ],
   "source": [
    "df.keys()"
   ]
  },
  {
   "cell_type": "code",
   "execution_count": 133,
   "metadata": {
    "scrolled": true
   },
   "outputs": [],
   "source": [
    "df = df[['court', 'name', 'first_name', 'last_name', 'gender', 'president', 'Presidential_Party', 'bio']]"
   ]
  },
  {
   "cell_type": "code",
   "execution_count": 134,
   "metadata": {},
   "outputs": [],
   "source": [
    "df.to_csv(\"final_court_of_appeals.csv\", index=False)"
   ]
  },
  {
   "cell_type": "markdown",
   "metadata": {},
   "source": [
    "## Using RegEx to clean the District Judge dataframe"
   ]
  },
  {
   "cell_type": "code",
   "execution_count": 3,
   "metadata": {},
   "outputs": [
    {
     "data": {
      "text/plain": [
       "['bio', 'name']"
      ]
     },
     "execution_count": 3,
     "metadata": {},
     "output_type": "execute_result"
    }
   ],
   "source": [
    "import pandas as pd\n",
    "dfd = pd.read_csv(\"district_judge_names.csv\")\n",
    "d_cols = list(dfd.columns.values)\n",
    "d_cols"
   ]
  },
  {
   "cell_type": "code",
   "execution_count": 4,
   "metadata": {
    "scrolled": false
   },
   "outputs": [
    {
     "data": {
      "text/html": [
       "<div>\n",
       "<style scoped>\n",
       "    .dataframe tbody tr th:only-of-type {\n",
       "        vertical-align: middle;\n",
       "    }\n",
       "\n",
       "    .dataframe tbody tr th {\n",
       "        vertical-align: top;\n",
       "    }\n",
       "\n",
       "    .dataframe thead th {\n",
       "        text-align: right;\n",
       "    }\n",
       "</style>\n",
       "<table border=\"1\" class=\"dataframe\">\n",
       "  <thead>\n",
       "    <tr style=\"text-align: right;\">\n",
       "      <th></th>\n",
       "      <th>name</th>\n",
       "      <th>bio</th>\n",
       "    </tr>\n",
       "  </thead>\n",
       "  <tbody>\n",
       "    <tr>\n",
       "      <th>0</th>\n",
       "      <td>Abrams, Leslie Joyce</td>\n",
       "      <td>Born 1974 in Madison, WI\\n\\nFederal Judicial S...</td>\n",
       "    </tr>\n",
       "    <tr>\n",
       "      <th>1</th>\n",
       "      <td>Abrams, Ronnie</td>\n",
       "      <td>Born 1968 in New York, NY\\n\\nFederal Judicial ...</td>\n",
       "    </tr>\n",
       "    <tr>\n",
       "      <th>2</th>\n",
       "      <td>Adams, Henry Lee, Jr.</td>\n",
       "      <td>Born 1945 in Jacksonville, FL\\n\\nFederal Judic...</td>\n",
       "    </tr>\n",
       "    <tr>\n",
       "      <th>3</th>\n",
       "      <td>Adams, John R.</td>\n",
       "      <td>Born 1955 in Orrville, OH\\n\\nFederal Judicial ...</td>\n",
       "    </tr>\n",
       "    <tr>\n",
       "      <th>4</th>\n",
       "      <td>Adelman, Lynn S.</td>\n",
       "      <td>Born 1939 in Milwaukee, WI\\n\\nFederal Judicial...</td>\n",
       "    </tr>\n",
       "  </tbody>\n",
       "</table>\n",
       "</div>"
      ],
      "text/plain": [
       "                    name                                                bio\n",
       "0   Abrams, Leslie Joyce  Born 1974 in Madison, WI\\n\\nFederal Judicial S...\n",
       "1         Abrams, Ronnie  Born 1968 in New York, NY\\n\\nFederal Judicial ...\n",
       "2  Adams, Henry Lee, Jr.  Born 1945 in Jacksonville, FL\\n\\nFederal Judic...\n",
       "3         Adams, John R.  Born 1955 in Orrville, OH\\n\\nFederal Judicial ...\n",
       "4       Adelman, Lynn S.  Born 1939 in Milwaukee, WI\\n\\nFederal Judicial..."
      ]
     },
     "execution_count": 4,
     "metadata": {},
     "output_type": "execute_result"
    }
   ],
   "source": [
    "dfd = dfd[['name', 'bio']]\n",
    "dfd.head()"
   ]
  },
  {
   "cell_type": "code",
   "execution_count": 5,
   "metadata": {},
   "outputs": [
    {
     "data": {
      "text/html": [
       "<div>\n",
       "<style scoped>\n",
       "    .dataframe tbody tr th:only-of-type {\n",
       "        vertical-align: middle;\n",
       "    }\n",
       "\n",
       "    .dataframe tbody tr th {\n",
       "        vertical-align: top;\n",
       "    }\n",
       "\n",
       "    .dataframe thead th {\n",
       "        text-align: right;\n",
       "    }\n",
       "</style>\n",
       "<table border=\"1\" class=\"dataframe\">\n",
       "  <thead>\n",
       "    <tr style=\"text-align: right;\">\n",
       "      <th></th>\n",
       "      <th>name</th>\n",
       "      <th>bio</th>\n",
       "      <th>last_name</th>\n",
       "    </tr>\n",
       "  </thead>\n",
       "  <tbody>\n",
       "    <tr>\n",
       "      <th>0</th>\n",
       "      <td>Abrams, Leslie Joyce</td>\n",
       "      <td>Born 1974 in Madison, WI\\n\\nFederal Judicial S...</td>\n",
       "      <td>Abrams</td>\n",
       "    </tr>\n",
       "    <tr>\n",
       "      <th>1</th>\n",
       "      <td>Abrams, Ronnie</td>\n",
       "      <td>Born 1968 in New York, NY\\n\\nFederal Judicial ...</td>\n",
       "      <td>Abrams</td>\n",
       "    </tr>\n",
       "    <tr>\n",
       "      <th>2</th>\n",
       "      <td>Adams, Henry Lee, Jr.</td>\n",
       "      <td>Born 1945 in Jacksonville, FL\\n\\nFederal Judic...</td>\n",
       "      <td>Adams</td>\n",
       "    </tr>\n",
       "  </tbody>\n",
       "</table>\n",
       "</div>"
      ],
      "text/plain": [
       "                    name                                                bio  \\\n",
       "0   Abrams, Leslie Joyce  Born 1974 in Madison, WI\\n\\nFederal Judicial S...   \n",
       "1         Abrams, Ronnie  Born 1968 in New York, NY\\n\\nFederal Judicial ...   \n",
       "2  Adams, Henry Lee, Jr.  Born 1945 in Jacksonville, FL\\n\\nFederal Judic...   \n",
       "\n",
       "  last_name  \n",
       "0    Abrams  \n",
       "1    Abrams  \n",
       "2     Adams  "
      ]
     },
     "execution_count": 5,
     "metadata": {},
     "output_type": "execute_result"
    }
   ],
   "source": [
    "#Grab the last name of the district judge\n",
    "import re\n",
    "\n",
    "dfd['last_name'] = dfd['name'].str.extract(r'\\b(\\w+)\\b')\n",
    "dfd.head(3)"
   ]
  },
  {
   "cell_type": "code",
   "execution_count": 6,
   "metadata": {
    "scrolled": true
   },
   "outputs": [
    {
     "data": {
      "text/plain": [
       "0    Abrams, Leslie Joyce\n",
       "1          Abrams, Ronnie\n",
       "2    Adams, Henry Lee Jr.\n",
       "3          Adams, John R.\n",
       "4        Adelman, Lynn S.\n",
       "Name: first_name, dtype: object"
      ]
     },
     "execution_count": 6,
     "metadata": {},
     "output_type": "execute_result"
    }
   ],
   "source": [
    "#Grab the first name of the district judge\n",
    "\n",
    "dfd['first_name'] = dfd['name'].str.replace(', Jr.', ' Jr.')\n",
    "dfd['first_name'].head()"
   ]
  },
  {
   "cell_type": "code",
   "execution_count": 7,
   "metadata": {},
   "outputs": [],
   "source": [
    "dfd['first_name'] = dfd['name'].str.extract(r\", (.+)$\")"
   ]
  },
  {
   "cell_type": "code",
   "execution_count": 8,
   "metadata": {
    "scrolled": false
   },
   "outputs": [
    {
     "data": {
      "text/plain": [
       "0    Born 1974 in Madison, WI  Federal Judicial Ser...\n",
       "1    Born 1968 in New York, NY  Federal Judicial Se...\n",
       "2    Born 1945 in Jacksonville, FL  Federal Judicia...\n",
       "Name: bio, dtype: object"
      ]
     },
     "execution_count": 8,
     "metadata": {},
     "output_type": "execute_result"
    }
   ],
   "source": [
    "dfd['bio'] = dfd['bio'].str.strip('\\n').str.replace('\\n',' ')\n",
    "dfd['bio'].head(3)"
   ]
  },
  {
   "cell_type": "code",
   "execution_count": 9,
   "metadata": {
    "scrolled": false
   },
   "outputs": [
    {
     "data": {
      "text/plain": [
       "0    U.S. District Court for the Middle District of...\n",
       "1    U.S. District Court for the Southern District ...\n",
       "2    U.S. District Court for the Middle District of...\n",
       "3    U.S. District Court for the Northern District ...\n",
       "4    U.S. District Court for the Eastern District o...\n",
       "5    U.S. District Court for the Eastern District o...\n",
       "6       U.S. District Court for the District of Oregon\n",
       "7    U.S. District Court for the Middle District of...\n",
       "8    U.S. District Court for the Eastern District o...\n",
       "9    U.S. District Court for the Western District o...\n",
       "Name: court, dtype: object"
      ]
     },
     "execution_count": 9,
     "metadata": {},
     "output_type": "execute_result"
    }
   ],
   "source": [
    "dfd['court'] = dfd['bio'].str.extract(r'(\\bU\\.S.\\ District Court for the([ \\w]*)? [\\w]* of\\s?(South)?(North)?(New)?(West)?(Rhode)?(District of)? [\\w]*)')[0]\n",
    "dfd['court'].head(10)"
   ]
  },
  {
   "cell_type": "code",
   "execution_count": 45,
   "metadata": {},
   "outputs": [],
   "source": [
    "#Duplicate the Court column in order to create a merge column for the map\n",
    "dfd['court_code'] = dfd['court']"
   ]
  },
  {
   "cell_type": "code",
   "execution_count": 26,
   "metadata": {},
   "outputs": [
    {
     "data": {
      "text/plain": [
       "0          Nominated by Barack Obama\n",
       "1          Nominated by Barack Obama\n",
       "2    Nominated by William J. Clinton\n",
       "3        Nominated by George W. Bush\n",
       "4    Nominated by William J. Clinton\n",
       "5        Nominated by George W. Bush\n",
       "6    Nominated by William J. Clinton\n",
       "7      Nominated by George H.W. Bush\n",
       "8          Nominated by Barack Obama\n",
       "9         Nominated by Ronald Reagan\n",
       "Name: president, dtype: object"
      ]
     },
     "execution_count": 26,
     "metadata": {},
     "output_type": "execute_result"
    }
   ],
   "source": [
    "#RegEx to extract the president's name\n",
    "dfd['president'] = dfd['bio'].str.extract(r'(\\bNominated by [\\w]*......[\\w]*)')[0]\n",
    "dfd['president'].head(10)"
   ]
  },
  {
   "cell_type": "code",
   "execution_count": 25,
   "metadata": {},
   "outputs": [
    {
     "data": {
      "text/plain": [
       "0      Democrat\n",
       "1      Democrat\n",
       "2      Democrat\n",
       "3    Republican\n",
       "4      Democrat\n",
       "5    Republican\n",
       "6      Democrat\n",
       "7    Republican\n",
       "8      Democrat\n",
       "9    Republican\n",
       "Name: Presidential_Party, dtype: object"
      ]
     },
     "execution_count": 25,
     "metadata": {},
     "output_type": "execute_result"
    }
   ],
   "source": [
    "#Applies the above function written to determine the party of the president.\n",
    "dfd['Presidential_Party'] = dfd.president.apply(presidential_party)\n",
    "dfd['Presidential_Party'].head(10)"
   ]
  },
  {
   "cell_type": "markdown",
   "metadata": {},
   "source": [
    "## Scraping a List of the Genders of Judges: District Judges\n",
    "https://www.fjc.gov/history/judges/search/women\n",
    "\n",
    "*Code Thought Process*: Once I have a list of the sitting judges in the district courts and court of appeals, I'd write a for loop where if the \"Gender\" Judge matched a name in the \"Court of Appeals\" or \"District Judge\" dictionaries, I'd have it save into a \"Women\" dictionary."
   ]
  },
  {
   "cell_type": "code",
   "execution_count": 225,
   "metadata": {},
   "outputs": [],
   "source": [
    "import time\n",
    "from selenium import webdriver\n",
    "from selenium.webdriver.common.keys import Keys\n",
    "from selenium.webdriver.common import action_chains\n",
    "from selenium.webdriver.support.ui import Select\n",
    "from selenium.webdriver.support.ui import WebDriverWait\n",
    "from selenium.common.exceptions import NoSuchElementException"
   ]
  },
  {
   "cell_type": "code",
   "execution_count": 230,
   "metadata": {},
   "outputs": [],
   "source": [
    "#Pull gender for District Judges\n",
    "driver = webdriver.Chrome()\n",
    "driver.get('https://www.fjc.gov/history/judges/search/advanced-search')\n",
    "\n",
    "#Click the Court button\n",
    "button = driver.find_element_by_xpath(\"//*[@id='views_ef_fieldset-wrapper']/div/div/fieldset/div/fieldset[1]/legend/span/a\")\n",
    "button.click()\n",
    "time.sleep(1)\n",
    "\n",
    "#Click the District button\n",
    "dis_button = driver.find_element_by_xpath(\"//*[@id='edit-court-district-wrapper']/div/div/fieldset/legend/span/a\")\n",
    "dis_button.click()\n",
    "time.sleep(1)"
   ]
  },
  {
   "cell_type": "code",
   "execution_count": 231,
   "metadata": {},
   "outputs": [],
   "source": [
    "#Click the Select All button\n",
    "select_all = driver.find_element_by_xpath(\"//*[@id='edit-court-district-wrapper']/div/div/fieldset/div/div/a\")\n",
    "select_all.click()\n",
    "time.sleep(2)\n",
    "button.click()"
   ]
  },
  {
   "cell_type": "code",
   "execution_count": 232,
   "metadata": {},
   "outputs": [],
   "source": [
    "#Select Gender\n",
    "gender = driver.find_element_by_xpath(\"//*[@id='views_ef_fieldset-wrapper']/div/div/fieldset/div/fieldset[4]/legend/span/a\")\n",
    "gender.click()"
   ]
  },
  {
   "cell_type": "code",
   "execution_count": 233,
   "metadata": {},
   "outputs": [],
   "source": [
    "#Edit Gender\n",
    "edit_gender = driver.find_element_by_id(\"edit-gender\")\n",
    "edit_gender.click()"
   ]
  },
  {
   "cell_type": "code",
   "execution_count": 234,
   "metadata": {},
   "outputs": [],
   "source": [
    "#Click female\n",
    "female = driver.find_element_by_xpath(\"//*[@id='edit-gender']/option[2]\")\n",
    "female.click()\n",
    "time.sleep(2)\n",
    "gender.click()"
   ]
  },
  {
   "cell_type": "code",
   "execution_count": 235,
   "metadata": {},
   "outputs": [],
   "source": [
    "#Click 'Limit to Sitting Judges'\n",
    "current_button = driver.find_element_by_xpath(\"//*[@id='views_ef_fieldset-wrapper']/div/div/fieldset/div/fieldset[6]/legend/span/a\")\n",
    "current_button.click()\n",
    "time.sleep(1)"
   ]
  },
  {
   "cell_type": "code",
   "execution_count": 236,
   "metadata": {},
   "outputs": [],
   "source": [
    "#Click \"All Sitting Judges\"\n",
    "sit_button = driver.find_element_by_id(\"edit-limit-sitting-judges-1\")\n",
    "sit_button.click()\n",
    "time.sleep(1)\n",
    "\n",
    "#Click Search Button\n",
    "search = driver.find_element_by_id(\"edit-submit-history-judges-advanced-search\")\n",
    "search.click()\n",
    "time.sleep(5)"
   ]
  },
  {
   "cell_type": "code",
   "execution_count": 237,
   "metadata": {},
   "outputs": [],
   "source": [
    "#Click on the Window for Judges\n",
    "judge = driver.find_element_by_class_name(\"colorbox-node\")\n",
    "judge.click()"
   ]
  },
  {
   "cell_type": "code",
   "execution_count": 239,
   "metadata": {
    "scrolled": true
   },
   "outputs": [
    {
     "data": {
      "text/html": [
       "<div>\n",
       "<style scoped>\n",
       "    .dataframe tbody tr th:only-of-type {\n",
       "        vertical-align: middle;\n",
       "    }\n",
       "\n",
       "    .dataframe tbody tr th {\n",
       "        vertical-align: top;\n",
       "    }\n",
       "\n",
       "    .dataframe thead th {\n",
       "        text-align: right;\n",
       "    }\n",
       "</style>\n",
       "<table border=\"1\" class=\"dataframe\">\n",
       "  <thead>\n",
       "    <tr style=\"text-align: right;\">\n",
       "      <th></th>\n",
       "      <th>name</th>\n",
       "    </tr>\n",
       "  </thead>\n",
       "  <tbody>\n",
       "    <tr>\n",
       "      <th>0</th>\n",
       "      <td>Abrams, Leslie Joyce</td>\n",
       "    </tr>\n",
       "    <tr>\n",
       "      <th>1</th>\n",
       "      <td>Abrams, Ronnie</td>\n",
       "    </tr>\n",
       "    <tr>\n",
       "      <th>2</th>\n",
       "      <td>Aiken, Ann L.</td>\n",
       "    </tr>\n",
       "    <tr>\n",
       "      <th>3</th>\n",
       "      <td>Allen, Arenda Lauretta Wright</td>\n",
       "    </tr>\n",
       "    <tr>\n",
       "      <th>4</th>\n",
       "      <td>Altonaga, Cecilia M.</td>\n",
       "    </tr>\n",
       "  </tbody>\n",
       "</table>\n",
       "</div>"
      ],
      "text/plain": [
       "                            name\n",
       "0           Abrams, Leslie Joyce\n",
       "1                 Abrams, Ronnie\n",
       "2                  Aiken, Ann L.\n",
       "3  Allen, Arenda Lauretta Wright\n",
       "4           Altonaga, Cecilia M."
      ]
     },
     "execution_count": 239,
     "metadata": {},
     "output_type": "execute_result"
    }
   ],
   "source": [
    "#Scrape the Search Results Names with the intention of using RegEx to search\n",
    "time.sleep(2)\n",
    "\n",
    "female_DJ = []\n",
    "count = 0\n",
    "\n",
    "while (count < 269):\n",
    "    rows = driver.find_elements_by_id('cboxContent')\n",
    "    for row in rows:\n",
    "        data = {\n",
    "            'name': row.find_element_by_css_selector(\"h1\").text\n",
    "        }\n",
    "    \n",
    "    female_DJ.append(data)\n",
    "    count = count + 1\n",
    "    driver.find_element_by_id(\"cboxNext\").click()\n",
    "    time.sleep(5)\n",
    "                \n",
    "import pandas as pd\n",
    "female_DJ = pd.DataFrame(female_DJ)\n",
    "female_DJ.to_csv(\"female_district_judges.csv\", index=False)\n",
    "female_DJ.head()"
   ]
  },
  {
   "cell_type": "code",
   "execution_count": 18,
   "metadata": {
    "scrolled": true
   },
   "outputs": [
    {
     "data": {
      "text/plain": [
       "['Abrams, Leslie Joyce',\n",
       " 'Abrams, Ronnie',\n",
       " 'Aiken, Ann L.',\n",
       " 'Allen, Arenda Lauretta Wright',\n",
       " 'Altonaga, Cecilia M.',\n",
       " 'Alvarez, Micaela',\n",
       " 'Ambrose, Donetta W.',\n",
       " 'Amon, Carol Bagley',\n",
       " 'Arguello, Christine M.',\n",
       " 'Arleo, Madeline Cox',\n",
       " 'Armijo, M. Christina',\n",
       " 'Armstrong, Saundra Brown',\n",
       " 'Arterton, Janet Bond',\n",
       " 'Atlas, Nancy Friedman',\n",
       " 'Axon, Annemarie Carney',\n",
       " 'Aycock, Sharion',\n",
       " 'Azrack, Joan Marie',\n",
       " 'Baker, Kristine Gerhard',\n",
       " 'Barker, Sarah Evans',\n",
       " 'Bashant, Cynthia Ann',\n",
       " 'Battani, Marianne O.',\n",
       " 'Batts, Deborah A.',\n",
       " 'Beckwith, Sandra Shank',\n",
       " 'Beetlestone, Wendy',\n",
       " 'Bencivengo, Cathy Ann',\n",
       " 'Berger, Irene Cornelia',\n",
       " 'Berrigan, Helen Ginger',\n",
       " 'Biggs, Loretta Copeland',\n",
       " 'Bissoon, Cathy',\n",
       " 'Blackburn, Sharon Lovelace',\n",
       " 'Blake, Catherine C.',\n",
       " 'Bloom, Beth Francine',\n",
       " 'Bolton, Susan Ritchie',\n",
       " 'Boom, Claria Horn',\n",
       " 'Bowdre, Karon O.',\n",
       " 'Boyle, Jane J.',\n",
       " 'Brinkema, Leonie M.',\n",
       " 'Brodie, Margo Kitsy',\n",
       " 'Brody, Anita Blumstein',\n",
       " 'Brown, Anna J.',\n",
       " 'Brown, Debra Marie',\n",
       " 'Brown, Nannette Jolivette',\n",
       " 'Bryant, Vanessa Lynne',\n",
       " 'Buchwald, Naomi Reice',\n",
       " 'Bucklew, Susan C.',\n",
       " 'Bucklo, Elaine E.',\n",
       " 'Bumb, Renee Marie',\n",
       " 'Burns, Ellen Bree',\n",
       " 'Burroughs, Allison Dale',\n",
       " 'Caldwell, Karen K.',\n",
       " 'Campbell, Tena',\n",
       " 'Caproni, Valerie Elaine',\n",
       " 'Cardone, Kathleen',\n",
       " 'Casper, Denise Jefferson',\n",
       " 'Cauthron, Robin J.',\n",
       " 'Cecchi, Claire Claudia',\n",
       " 'Cerezo, Carmen Consuelo',\n",
       " 'Chappell, Sheri Polster',\n",
       " 'Chasanow, Deborah K.',\n",
       " 'Chen, Pamela Ki Mai',\n",
       " 'Chesney, Maxine M.',\n",
       " 'Childs, Julianna Michelle',\n",
       " 'Chutkan, Tanya Sue',\n",
       " 'Coleman, Sharon Johnson',\n",
       " 'Collyer, Rosemary M.',\n",
       " 'Conlon, Suzanne B.',\n",
       " 'Conti, Joy Flowers',\n",
       " 'Conway, Anne C.',\n",
       " 'Cooke, Marcia G.',\n",
       " 'Cooper, Mary Little',\n",
       " 'Cote, Denise',\n",
       " 'Covington, Virginia Maria Hernandez',\n",
       " 'Crabb, Barbara Brandriff',\n",
       " 'Crone, Marcia A.',\n",
       " 'Currie, Cameron McGowan',\n",
       " \"D'Agostino, Mae Avila\",\n",
       " 'Darrow, Sara Lynn',\n",
       " 'Delgado-Colon, Aida M.',\n",
       " 'Dick, Shelly Deckert',\n",
       " 'Dillon, Elizabeth Kay',\n",
       " 'Dimmick, Carolyn R.',\n",
       " 'Dlott, Susan J.',\n",
       " 'Doherty, Rebecca F.',\n",
       " 'Donnelly, Ann Marie',\n",
       " 'Dorsey, Jennifer Anna',\n",
       " 'Du, Miranda Mai',\n",
       " 'DuBose, Kristi',\n",
       " 'Eagan, Claire',\n",
       " 'Eagles, Catherine Caldwell',\n",
       " 'Ebinger, Rebecca Goodgame',\n",
       " 'Edmunds, Nancy Garlock',\n",
       " 'Ellis, Sara Lee',\n",
       " 'Ericksen, Joan N.',\n",
       " 'Evans, Orinda Dale',\n",
       " 'Failla, Katherine Polk',\n",
       " 'Fairbank, Valerie Baker',\n",
       " 'Fawsett, Patricia C.',\n",
       " 'Feuerstein, Sandra J.',\n",
       " 'Fischer, Dale S.',\n",
       " 'Fischer, Nora Barry',\n",
       " 'Flanagan, Louise W.',\n",
       " 'Fleissig, Audrey Goldstein',\n",
       " 'Foote, Elizabeth Erny',\n",
       " 'Forrest, Katherine Bolan',\n",
       " 'Freeman, Beth Labson',\n",
       " 'Freudenthal, Nancy Dell',\n",
       " 'Friedrich, Dabney Langhorne',\n",
       " 'Garcia Marmolejo, Marina',\n",
       " 'Gaughan, Patricia Anne',\n",
       " 'Gee, Dolly Maizie',\n",
       " 'Gershon, Nina',\n",
       " 'Gillmor, Helen W.',\n",
       " 'Gilmore, Vanessa D.',\n",
       " 'Gleason, Sharon Louise',\n",
       " 'Gottschall, Joan B.',\n",
       " 'Granade, Callie V.',\n",
       " 'Green, Joyce Hens',\n",
       " 'Groh, Gina Marie',\n",
       " 'Haikala, Madeline Hughes',\n",
       " 'Hall, Janet C.',\n",
       " 'Hall, LaShann Moutique DeArcy',\n",
       " 'Hamilton, Jean Constance',\n",
       " 'Hamilton, Phyllis Jean',\n",
       " 'Harmon, Melinda',\n",
       " 'Hayden, Katharine Sweeney',\n",
       " 'Hendricks, Bruce Howe',\n",
       " 'Herrera, Judith C.',\n",
       " 'Hickey, Susan Owens',\n",
       " 'Hollander, Ellen Lipton',\n",
       " 'Honeywell, Charlene Vanessa Edwards',\n",
       " 'Hood, Denise Page',\n",
       " 'Hopkins, Virginia Emerson',\n",
       " 'Howard, Marcia Morales',\n",
       " 'Howell, Beryl Alaine',\n",
       " 'Huff, Marilyn L.',\n",
       " 'Humetewa, Diane Joyce',\n",
       " 'Huvelle, Ellen Segal',\n",
       " 'Illston, Susan Yvonne',\n",
       " 'Irizarry, Dora L.',\n",
       " 'Jack, Janis Graham',\n",
       " 'Jackson, Amy Berman',\n",
       " 'Jackson, Ketanji Brown',\n",
       " 'Jennings, Rebecca Grady',\n",
       " 'Johnson, Inge Prytz',\n",
       " 'Jorgenson, Cindy K.',\n",
       " 'Kane, Yvette',\n",
       " 'Keeley, Irene Patricia Murphy',\n",
       " 'Kendall, Virginia Mary',\n",
       " 'Kessler, Gladys',\n",
       " 'Ketchmark, Roseann Ambrosia',\n",
       " 'Kobayashi, Leslie Emi',\n",
       " 'Koh, Lucy Haeran',\n",
       " 'Kollar-Kotelly, Colleen',\n",
       " 'Kovachevich, Elizabeth Anne',\n",
       " 'Krieger, Marcia S.',\n",
       " 'Lauck, M[ary] Hannah',\n",
       " 'Laughrey, Nanette Kay',\n",
       " 'Lefkow, Joan Humphrey',\n",
       " 'Lemmon, Mary Ann Vial',\n",
       " 'Lenard, Joan A.',\n",
       " 'Levy, Judith Ellen',\n",
       " 'Lewis, Mary Geiger',\n",
       " 'Lioi, Sara Elizabeth',\n",
       " 'Lipman, Sheryl Halle',\n",
       " 'Lisi, Mary M.',\n",
       " 'Lynn, Barbara M.',\n",
       " 'Magnus-Stinson, Jane Elizabeth',\n",
       " 'Manning, Blanche M.',\n",
       " 'Marquez, Rosemary',\n",
       " 'Marshall, Consuelo Bland',\n",
       " 'Matsumoto, Kiyo A.',\n",
       " 'Mauskopf, Roslynn Renee',\n",
       " 'May, Leigh Martin',\n",
       " 'McCafferty, Landya B.',\n",
       " 'McLaughlin, Mary A.',\n",
       " 'McMahon, Colleen',\n",
       " 'Michelson, Laurie Jill',\n",
       " 'Milazzo, Jane Margaret Triche',\n",
       " 'Miles-LaGrange, Vicki',\n",
       " 'Minaldi, Patricia Head',\n",
       " 'Mollway, Susan Oki',\n",
       " 'Montgomery, Ann D.',\n",
       " 'Morgan, Susie',\n",
       " 'Moses, Alia',\n",
       " 'Mueller, Kimberly Jo',\n",
       " 'Myerscough, Sue Ellen',\n",
       " 'Nathan, Alison Julie',\n",
       " 'Navarro, Gloria Maria',\n",
       " 'Neff, Janet T.',\n",
       " 'Nelson, Susan Richard',\n",
       " 'Pallmeyer, Rebecca R.',\n",
       " 'Parker, Linda Vivienne',\n",
       " 'Parrish, Jill N.',\n",
       " 'Pearson, Benita Yalonda',\n",
       " 'Pechman, Marsha J.',\n",
       " 'Pepper, Pamela',\n",
       " 'Perry, Catherine D.',\n",
       " 'Peterson, Rosanna Malouf',\n",
       " 'Phillips, Mary Elizabeth',\n",
       " 'Phillips, Virginia A.',\n",
       " 'Pratt, Tanya Walton',\n",
       " 'Pratter, Gene E.K.',\n",
       " 'Preska, Loretta A.',\n",
       " 'Quinones Alejandro, Nitza Ileana',\n",
       " 'Rambo, Sylvia H.',\n",
       " 'Ramos, Nelva Gonzales',\n",
       " 'Reade, Linda R.',\n",
       " 'Reeves, Pamela Lynn',\n",
       " 'Reiss, Christina Clair',\n",
       " 'Roberts, Victoria A.',\n",
       " 'Robinson, Julie A.',\n",
       " 'Robinson, Mary Lou',\n",
       " 'Rodgers, Margaret Catharine',\n",
       " 'Rogers, Yvonne Gonzalez',\n",
       " 'Rose, Stephanie Marie',\n",
       " 'Rosenberg, Robin Lee',\n",
       " 'Rosenstengel, Nancy Jo',\n",
       " 'Rosenthal, Lee Hyman',\n",
       " 'Ross, Allyne R.',\n",
       " 'Ross, Eleanor Louise',\n",
       " 'Rothstein, Barbara Jacobs',\n",
       " 'Rufe, Cynthia M.',\n",
       " 'Salas, Esther',\n",
       " 'Saldana, Diana',\n",
       " 'Sammartino, Janis Lynn',\n",
       " 'Sannes, Brenda Kay',\n",
       " 'Saris, Patti B.',\n",
       " 'Schofield, Lorna Gail',\n",
       " 'Scholer, Karen Gren',\n",
       " 'Schreier, Karen E.',\n",
       " 'Scriven, Mary Stenson',\n",
       " 'Seibel, Cathy',\n",
       " 'Seitz, Patricia A.',\n",
       " 'Seybert, Joanna',\n",
       " 'Seymour, Margaret B.',\n",
       " 'Silver, Roslyn O.',\n",
       " 'Smith Camp, Laurie',\n",
       " 'Smith, Rebecca Beach',\n",
       " 'Snyder, Christina A.',\n",
       " 'Springmann, Theresa Lazar',\n",
       " 'Staton, Josephine L.',\n",
       " 'Swain, Laura Taylor',\n",
       " 'Tagle, Hilda G.',\n",
       " 'Talwani, Indira',\n",
       " 'Thompson, Anne Elise',\n",
       " 'Torres, Analisa Nadine',\n",
       " 'Torresen, Nancy',\n",
       " 'Totenberg, Amy Mil',\n",
       " 'Trauger, Aleta Arthur',\n",
       " 'Tucker, Petrese B.',\n",
       " 'Ungaro, Ursula',\n",
       " 'Vance, Sarah S.',\n",
       " 'Vazquez, Martha Alicia',\n",
       " 'Vratil, Kathryn Hoefer',\n",
       " 'Watters, Susan Pamela',\n",
       " 'Wigenton, Susan Davis',\n",
       " 'Wilken, Claudia Ann',\n",
       " 'Williams, Kathleen Mary',\n",
       " 'Wolford, Elizabeth Ann',\n",
       " 'Wolfson, Freda L.',\n",
       " 'Wood, Andrea Robin',\n",
       " 'Wood, Kimba Maureen',\n",
       " 'Wood, Lisa Godbey',\n",
       " 'Wright, Susan Webber',\n",
       " 'Wright, Wilhelmina Marie',\n",
       " 'Xinis, Paula',\n",
       " 'Yandle, Staci Michelle',\n",
       " 'Zipps, Jennifer Guerin',\n",
       " 'Zobel, Rya Weickert']"
      ]
     },
     "execution_count": 18,
     "metadata": {},
     "output_type": "execute_result"
    }
   ],
   "source": [
    "female_DJ = pd.read_csv(\"female_district_judges.csv\", na_values=['nan'])\n",
    "female_DJ = list(female_DJ['name'])\n",
    "female_DJ"
   ]
  },
  {
   "cell_type": "code",
   "execution_count": 19,
   "metadata": {},
   "outputs": [],
   "source": [
    "#Apply Function written to determine whether female list matches judge names\n",
    "\n",
    "def get_gender(row):\n",
    "    gender = \"Male\"\n",
    "    \n",
    "    for nm in female_DJ:\n",
    "        if nm == row:\n",
    "            gender = 'Female'\n",
    "    return gender\n",
    "\n",
    "dfd['gender'] = dfd['name'].apply(lambda x: get_gender(x))"
   ]
  },
  {
   "cell_type": "code",
   "execution_count": 20,
   "metadata": {
    "scrolled": false
   },
   "outputs": [
    {
     "data": {
      "text/plain": [
       "0    Female\n",
       "1    Female\n",
       "2      Male\n",
       "3      Male\n",
       "4      Male\n",
       "5      Male\n",
       "6    Female\n",
       "7      Male\n",
       "8    Female\n",
       "9      Male\n",
       "Name: gender, dtype: object"
      ]
     },
     "execution_count": 20,
     "metadata": {},
     "output_type": "execute_result"
    }
   ],
   "source": [
    "dfd['gender'].head(10)"
   ]
  },
  {
   "cell_type": "code",
   "execution_count": 21,
   "metadata": {
    "scrolled": true
   },
   "outputs": [
    {
     "data": {
      "text/plain": [
       "Index(['name', 'bio', 'last_name', 'first_name', 'court', 'president',\n",
       "       'Presidential_Party', 'gender'],\n",
       "      dtype='object')"
      ]
     },
     "execution_count": 21,
     "metadata": {},
     "output_type": "execute_result"
    }
   ],
   "source": [
    "dfd.keys()"
   ]
  },
  {
   "cell_type": "code",
   "execution_count": 22,
   "metadata": {
    "scrolled": true
   },
   "outputs": [],
   "source": [
    "dfd = dfd[['court', 'name', 'first_name', 'last_name', 'gender', 'president', 'Presidential_Party', 'bio']]"
   ]
  },
  {
   "cell_type": "code",
   "execution_count": 23,
   "metadata": {},
   "outputs": [],
   "source": [
    "dfd.to_csv(\"final_district_courts.csv\", index=False)"
   ]
  }
 ],
 "metadata": {
  "kernelspec": {
   "display_name": "Python 3",
   "language": "python",
   "name": "python3"
  },
  "language_info": {
   "codemirror_mode": {
    "name": "ipython",
    "version": 3
   },
   "file_extension": ".py",
   "mimetype": "text/x-python",
   "name": "python",
   "nbconvert_exporter": "python",
   "pygments_lexer": "ipython3",
   "version": "3.6.4"
  }
 },
 "nbformat": 4,
 "nbformat_minor": 2
}
